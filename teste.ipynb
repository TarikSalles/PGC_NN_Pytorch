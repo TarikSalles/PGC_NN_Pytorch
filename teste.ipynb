{
  "cells": [
    {
      "cell_type": "code",
      "source": [
        "!pip install torch_geometric\n",
        "!pip install spektral"
      ],
      "metadata": {
        "colab": {
          "base_uri": "https://localhost:8080/"
        },
        "id": "Qcfuuqg9zI04",
        "outputId": "ab5b4c69-1b54-4d21-e1ab-f296fbaa3efc"
      },
      "id": "Qcfuuqg9zI04",
      "execution_count": 56,
      "outputs": [
        {
          "output_type": "stream",
          "name": "stdout",
          "text": [
            "Requirement already satisfied: torch_geometric in /usr/local/lib/python3.10/dist-packages (2.5.3)\n",
            "Requirement already satisfied: tqdm in /usr/local/lib/python3.10/dist-packages (from torch_geometric) (4.66.2)\n",
            "Requirement already satisfied: numpy in /usr/local/lib/python3.10/dist-packages (from torch_geometric) (1.25.2)\n",
            "Requirement already satisfied: scipy in /usr/local/lib/python3.10/dist-packages (from torch_geometric) (1.11.4)\n",
            "Requirement already satisfied: fsspec in /usr/local/lib/python3.10/dist-packages (from torch_geometric) (2023.6.0)\n",
            "Requirement already satisfied: jinja2 in /usr/local/lib/python3.10/dist-packages (from torch_geometric) (3.1.3)\n",
            "Requirement already satisfied: aiohttp in /usr/local/lib/python3.10/dist-packages (from torch_geometric) (3.9.5)\n",
            "Requirement already satisfied: requests in /usr/local/lib/python3.10/dist-packages (from torch_geometric) (2.31.0)\n",
            "Requirement already satisfied: pyparsing in /usr/local/lib/python3.10/dist-packages (from torch_geometric) (3.1.2)\n",
            "Requirement already satisfied: scikit-learn in /usr/local/lib/python3.10/dist-packages (from torch_geometric) (1.2.2)\n",
            "Requirement already satisfied: psutil>=5.8.0 in /usr/local/lib/python3.10/dist-packages (from torch_geometric) (5.9.5)\n",
            "Requirement already satisfied: aiosignal>=1.1.2 in /usr/local/lib/python3.10/dist-packages (from aiohttp->torch_geometric) (1.3.1)\n",
            "Requirement already satisfied: attrs>=17.3.0 in /usr/local/lib/python3.10/dist-packages (from aiohttp->torch_geometric) (23.2.0)\n",
            "Requirement already satisfied: frozenlist>=1.1.1 in /usr/local/lib/python3.10/dist-packages (from aiohttp->torch_geometric) (1.4.1)\n",
            "Requirement already satisfied: multidict<7.0,>=4.5 in /usr/local/lib/python3.10/dist-packages (from aiohttp->torch_geometric) (6.0.5)\n",
            "Requirement already satisfied: yarl<2.0,>=1.0 in /usr/local/lib/python3.10/dist-packages (from aiohttp->torch_geometric) (1.9.4)\n",
            "Requirement already satisfied: async-timeout<5.0,>=4.0 in /usr/local/lib/python3.10/dist-packages (from aiohttp->torch_geometric) (4.0.3)\n",
            "Requirement already satisfied: MarkupSafe>=2.0 in /usr/local/lib/python3.10/dist-packages (from jinja2->torch_geometric) (2.1.5)\n",
            "Requirement already satisfied: charset-normalizer<4,>=2 in /usr/local/lib/python3.10/dist-packages (from requests->torch_geometric) (3.3.2)\n",
            "Requirement already satisfied: idna<4,>=2.5 in /usr/local/lib/python3.10/dist-packages (from requests->torch_geometric) (3.7)\n",
            "Requirement already satisfied: urllib3<3,>=1.21.1 in /usr/local/lib/python3.10/dist-packages (from requests->torch_geometric) (2.0.7)\n",
            "Requirement already satisfied: certifi>=2017.4.17 in /usr/local/lib/python3.10/dist-packages (from requests->torch_geometric) (2024.2.2)\n",
            "Requirement already satisfied: joblib>=1.1.1 in /usr/local/lib/python3.10/dist-packages (from scikit-learn->torch_geometric) (1.4.0)\n",
            "Requirement already satisfied: threadpoolctl>=2.0.0 in /usr/local/lib/python3.10/dist-packages (from scikit-learn->torch_geometric) (3.4.0)\n",
            "Requirement already satisfied: spektral in /usr/local/lib/python3.10/dist-packages (1.3.1)\n",
            "Requirement already satisfied: joblib in /usr/local/lib/python3.10/dist-packages (from spektral) (1.4.0)\n",
            "Requirement already satisfied: lxml in /usr/local/lib/python3.10/dist-packages (from spektral) (4.9.4)\n",
            "Requirement already satisfied: networkx in /usr/local/lib/python3.10/dist-packages (from spektral) (3.3)\n",
            "Requirement already satisfied: numpy in /usr/local/lib/python3.10/dist-packages (from spektral) (1.25.2)\n",
            "Requirement already satisfied: pandas in /usr/local/lib/python3.10/dist-packages (from spektral) (2.0.3)\n",
            "Requirement already satisfied: requests in /usr/local/lib/python3.10/dist-packages (from spektral) (2.31.0)\n",
            "Requirement already satisfied: scikit-learn in /usr/local/lib/python3.10/dist-packages (from spektral) (1.2.2)\n",
            "Requirement already satisfied: scipy in /usr/local/lib/python3.10/dist-packages (from spektral) (1.11.4)\n",
            "Requirement already satisfied: tqdm in /usr/local/lib/python3.10/dist-packages (from spektral) (4.66.2)\n",
            "Requirement already satisfied: tensorflow>=2.2.0 in /usr/local/lib/python3.10/dist-packages (from spektral) (2.15.0)\n",
            "Requirement already satisfied: absl-py>=1.0.0 in /usr/local/lib/python3.10/dist-packages (from tensorflow>=2.2.0->spektral) (1.4.0)\n",
            "Requirement already satisfied: astunparse>=1.6.0 in /usr/local/lib/python3.10/dist-packages (from tensorflow>=2.2.0->spektral) (1.6.3)\n",
            "Requirement already satisfied: flatbuffers>=23.5.26 in /usr/local/lib/python3.10/dist-packages (from tensorflow>=2.2.0->spektral) (24.3.25)\n",
            "Requirement already satisfied: gast!=0.5.0,!=0.5.1,!=0.5.2,>=0.2.1 in /usr/local/lib/python3.10/dist-packages (from tensorflow>=2.2.0->spektral) (0.5.4)\n",
            "Requirement already satisfied: google-pasta>=0.1.1 in /usr/local/lib/python3.10/dist-packages (from tensorflow>=2.2.0->spektral) (0.2.0)\n",
            "Requirement already satisfied: h5py>=2.9.0 in /usr/local/lib/python3.10/dist-packages (from tensorflow>=2.2.0->spektral) (3.9.0)\n",
            "Requirement already satisfied: libclang>=13.0.0 in /usr/local/lib/python3.10/dist-packages (from tensorflow>=2.2.0->spektral) (18.1.1)\n",
            "Requirement already satisfied: ml-dtypes~=0.2.0 in /usr/local/lib/python3.10/dist-packages (from tensorflow>=2.2.0->spektral) (0.2.0)\n",
            "Requirement already satisfied: opt-einsum>=2.3.2 in /usr/local/lib/python3.10/dist-packages (from tensorflow>=2.2.0->spektral) (3.3.0)\n",
            "Requirement already satisfied: packaging in /usr/local/lib/python3.10/dist-packages (from tensorflow>=2.2.0->spektral) (24.0)\n",
            "Requirement already satisfied: protobuf!=4.21.0,!=4.21.1,!=4.21.2,!=4.21.3,!=4.21.4,!=4.21.5,<5.0.0dev,>=3.20.3 in /usr/local/lib/python3.10/dist-packages (from tensorflow>=2.2.0->spektral) (3.20.3)\n",
            "Requirement already satisfied: setuptools in /usr/local/lib/python3.10/dist-packages (from tensorflow>=2.2.0->spektral) (67.7.2)\n",
            "Requirement already satisfied: six>=1.12.0 in /usr/local/lib/python3.10/dist-packages (from tensorflow>=2.2.0->spektral) (1.16.0)\n",
            "Requirement already satisfied: termcolor>=1.1.0 in /usr/local/lib/python3.10/dist-packages (from tensorflow>=2.2.0->spektral) (2.4.0)\n",
            "Requirement already satisfied: typing-extensions>=3.6.6 in /usr/local/lib/python3.10/dist-packages (from tensorflow>=2.2.0->spektral) (4.11.0)\n",
            "Requirement already satisfied: wrapt<1.15,>=1.11.0 in /usr/local/lib/python3.10/dist-packages (from tensorflow>=2.2.0->spektral) (1.14.1)\n",
            "Requirement already satisfied: tensorflow-io-gcs-filesystem>=0.23.1 in /usr/local/lib/python3.10/dist-packages (from tensorflow>=2.2.0->spektral) (0.36.0)\n",
            "Requirement already satisfied: grpcio<2.0,>=1.24.3 in /usr/local/lib/python3.10/dist-packages (from tensorflow>=2.2.0->spektral) (1.62.2)\n",
            "Requirement already satisfied: tensorboard<2.16,>=2.15 in /usr/local/lib/python3.10/dist-packages (from tensorflow>=2.2.0->spektral) (2.15.2)\n",
            "Requirement already satisfied: tensorflow-estimator<2.16,>=2.15.0 in /usr/local/lib/python3.10/dist-packages (from tensorflow>=2.2.0->spektral) (2.15.0)\n",
            "Requirement already satisfied: keras<2.16,>=2.15.0 in /usr/local/lib/python3.10/dist-packages (from tensorflow>=2.2.0->spektral) (2.15.0)\n",
            "Requirement already satisfied: python-dateutil>=2.8.2 in /usr/local/lib/python3.10/dist-packages (from pandas->spektral) (2.8.2)\n",
            "Requirement already satisfied: pytz>=2020.1 in /usr/local/lib/python3.10/dist-packages (from pandas->spektral) (2023.4)\n",
            "Requirement already satisfied: tzdata>=2022.1 in /usr/local/lib/python3.10/dist-packages (from pandas->spektral) (2024.1)\n",
            "Requirement already satisfied: charset-normalizer<4,>=2 in /usr/local/lib/python3.10/dist-packages (from requests->spektral) (3.3.2)\n",
            "Requirement already satisfied: idna<4,>=2.5 in /usr/local/lib/python3.10/dist-packages (from requests->spektral) (3.7)\n",
            "Requirement already satisfied: urllib3<3,>=1.21.1 in /usr/local/lib/python3.10/dist-packages (from requests->spektral) (2.0.7)\n",
            "Requirement already satisfied: certifi>=2017.4.17 in /usr/local/lib/python3.10/dist-packages (from requests->spektral) (2024.2.2)\n",
            "Requirement already satisfied: threadpoolctl>=2.0.0 in /usr/local/lib/python3.10/dist-packages (from scikit-learn->spektral) (3.4.0)\n",
            "Requirement already satisfied: wheel<1.0,>=0.23.0 in /usr/local/lib/python3.10/dist-packages (from astunparse>=1.6.0->tensorflow>=2.2.0->spektral) (0.43.0)\n",
            "Requirement already satisfied: google-auth<3,>=1.6.3 in /usr/local/lib/python3.10/dist-packages (from tensorboard<2.16,>=2.15->tensorflow>=2.2.0->spektral) (2.27.0)\n",
            "Requirement already satisfied: google-auth-oauthlib<2,>=0.5 in /usr/local/lib/python3.10/dist-packages (from tensorboard<2.16,>=2.15->tensorflow>=2.2.0->spektral) (1.2.0)\n",
            "Requirement already satisfied: markdown>=2.6.8 in /usr/local/lib/python3.10/dist-packages (from tensorboard<2.16,>=2.15->tensorflow>=2.2.0->spektral) (3.6)\n",
            "Requirement already satisfied: tensorboard-data-server<0.8.0,>=0.7.0 in /usr/local/lib/python3.10/dist-packages (from tensorboard<2.16,>=2.15->tensorflow>=2.2.0->spektral) (0.7.2)\n",
            "Requirement already satisfied: werkzeug>=1.0.1 in /usr/local/lib/python3.10/dist-packages (from tensorboard<2.16,>=2.15->tensorflow>=2.2.0->spektral) (3.0.2)\n",
            "Requirement already satisfied: cachetools<6.0,>=2.0.0 in /usr/local/lib/python3.10/dist-packages (from google-auth<3,>=1.6.3->tensorboard<2.16,>=2.15->tensorflow>=2.2.0->spektral) (5.3.3)\n",
            "Requirement already satisfied: pyasn1-modules>=0.2.1 in /usr/local/lib/python3.10/dist-packages (from google-auth<3,>=1.6.3->tensorboard<2.16,>=2.15->tensorflow>=2.2.0->spektral) (0.4.0)\n",
            "Requirement already satisfied: rsa<5,>=3.1.4 in /usr/local/lib/python3.10/dist-packages (from google-auth<3,>=1.6.3->tensorboard<2.16,>=2.15->tensorflow>=2.2.0->spektral) (4.9)\n",
            "Requirement already satisfied: requests-oauthlib>=0.7.0 in /usr/local/lib/python3.10/dist-packages (from google-auth-oauthlib<2,>=0.5->tensorboard<2.16,>=2.15->tensorflow>=2.2.0->spektral) (1.3.1)\n",
            "Requirement already satisfied: MarkupSafe>=2.1.1 in /usr/local/lib/python3.10/dist-packages (from werkzeug>=1.0.1->tensorboard<2.16,>=2.15->tensorflow>=2.2.0->spektral) (2.1.5)\n",
            "Requirement already satisfied: pyasn1<0.7.0,>=0.4.6 in /usr/local/lib/python3.10/dist-packages (from pyasn1-modules>=0.2.1->google-auth<3,>=1.6.3->tensorboard<2.16,>=2.15->tensorflow>=2.2.0->spektral) (0.6.0)\n",
            "Requirement already satisfied: oauthlib>=3.0.0 in /usr/local/lib/python3.10/dist-packages (from requests-oauthlib>=0.7.0->google-auth-oauthlib<2,>=0.5->tensorboard<2.16,>=2.15->tensorflow>=2.2.0->spektral) (3.2.2)\n"
          ]
        }
      ]
    },
    {
      "cell_type": "code",
      "id": "initial_id",
      "metadata": {
        "collapsed": true,
        "ExecuteTime": {
          "end_time": "2024-04-26T05:23:19.376919Z",
          "start_time": "2024-04-26T05:23:19.373888Z"
        },
        "id": "initial_id"
      },
      "source": [
        "import numpy as np\n",
        "import tensorflow as tf\n",
        "import torch as th\n",
        "from spektral.layers.convolutional import ARMAConv as ARMAConvSpektral\n",
        "from torch_geometric.nn import ARMAConv as ARMAConvTorch\n",
        "from torch_geometric.data import Data\n",
        "\n",
        "from torch_geometric.loader import DataLoader\n",
        "from torch.utils.data import TensorDataset\n",
        "\n"
      ],
      "outputs": [],
      "execution_count": 57
    },
    {
      "metadata": {
        "ExecuteTime": {
          "end_time": "2024-04-26T03:50:57.212579Z",
          "start_time": "2024-04-26T03:50:57.209662Z"
        },
        "id": "4833174098f60e70"
      },
      "cell_type": "code",
      "source": [
        "\n",
        "# Create a sample adjacency matrix (replace this with your actual data)\n",
        "adjacency_matrix = np.array([[[0, 1, 0],\n",
        "                             [1, 0, 1],\n",
        "                             [0, 1, 0]],[[0, 1, 0],\n",
        "                             [1, 0, 1],\n",
        "                             [0, 1, 0]]])\n",
        "\n",
        "# Save the adjacency matrix as adjacency_df.npy\n",
        "np.save(\"adjacency_df.npy\", adjacency_matrix)\n",
        "a_input = np.load('adjacency_df.npy')"
      ],
      "id": "4833174098f60e70",
      "outputs": [],
      "execution_count": 58
    },
    {
      "cell_type": "code",
      "source": [
        "a_input"
      ],
      "metadata": {
        "colab": {
          "base_uri": "https://localhost:8080/"
        },
        "id": "7jLr-kxPROy4",
        "outputId": "40b73e02-3626-4012-a551-1fb60eceb8ee"
      },
      "id": "7jLr-kxPROy4",
      "execution_count": 59,
      "outputs": [
        {
          "output_type": "execute_result",
          "data": {
            "text/plain": [
              "array([[[0, 1, 0],\n",
              "        [1, 0, 1],\n",
              "        [0, 1, 0]],\n",
              "\n",
              "       [[0, 1, 0],\n",
              "        [1, 0, 1],\n",
              "        [0, 1, 0]]])"
            ]
          },
          "metadata": {},
          "execution_count": 59
        }
      ]
    },
    {
      "metadata": {
        "ExecuteTime": {
          "end_time": "2024-04-26T04:00:31.868569Z",
          "start_time": "2024-04-26T04:00:31.864006Z"
        },
        "id": "9201ac3713c8f343"
      },
      "cell_type": "code",
      "source": [
        "def array_matrices_to_array_edge_index(array_matrices: np.ndarray):\n",
        "    print(array_matrices.shape)\n",
        "    array_edge_indices = []\n",
        "    array_edge_indices_weighted = []\n",
        "\n",
        "    # Iterate over the adjacency matrices\n",
        "    for matrix in array_matrices:\n",
        "        edge_indices = []\n",
        "        edge_weights = []\n",
        "        for i in range(matrix.shape[0]):\n",
        "            for j in range(matrix.shape[1]):\n",
        "                if matrix[i, j] != 0:\n",
        "                    # Add the edge indices and the weight\n",
        "                    edge_indices.append([i, j])\n",
        "                    edge_weights.append(matrix[i, j])\n",
        "\n",
        "        #the edge indices and weights should always contain 3 columns, fill with [] if not\n",
        "\n",
        "        edge_indices = np.array(edge_indices)\n",
        "        edge_weights = np.array(edge_weights)\n",
        "        array_edge_indices.append(edge_indices)\n",
        "        array_edge_indices_weighted.append(edge_weights)\n",
        "\n",
        "    return np.array(array_edge_indices), np.array(array_edge_indices_weighted)"
      ],
      "id": "9201ac3713c8f343",
      "outputs": [],
      "execution_count": 60
    },
    {
      "metadata": {
        "ExecuteTime": {
          "end_time": "2024-04-26T04:01:01.427361Z",
          "start_time": "2024-04-26T04:01:01.422031Z"
        },
        "colab": {
          "base_uri": "https://localhost:8080/"
        },
        "id": "23286b2810ea0860",
        "outputId": "ee9fadcd-2be5-4450-f32b-61d6cbec7d72"
      },
      "cell_type": "code",
      "source": [
        "array_matrices_to_array_edge_index(a_input[1:2])"
      ],
      "id": "23286b2810ea0860",
      "outputs": [
        {
          "output_type": "stream",
          "name": "stdout",
          "text": [
            "(1, 3, 3)\n"
          ]
        },
        {
          "output_type": "execute_result",
          "data": {
            "text/plain": [
              "(array([[[0, 1],\n",
              "         [1, 0],\n",
              "         [1, 2],\n",
              "         [2, 1]]]),\n",
              " array([[1, 1, 1, 1]]))"
            ]
          },
          "metadata": {},
          "execution_count": 61
        }
      ],
      "execution_count": 61
    },
    {
      "metadata": {
        "ExecuteTime": {
          "end_time": "2024-04-26T05:55:47.385529Z",
          "start_time": "2024-04-26T05:55:47.378623Z"
        },
        "colab": {
          "base_uri": "https://localhost:8080/"
        },
        "id": "872cc564ce809c94",
        "outputId": "54434b0b-0f54-4450-ac92-78a89cc94c15"
      },
      "cell_type": "code",
      "source": [
        "node_features = th.tensor([\n",
        "    [1.0, 2.0, 3.0],\n",
        "    [1.0, 2.0, 3.0],\n",
        "    [1.0, 2.0, 3.0],\n",
        "])\n",
        "\n",
        "edge_indices = th.tensor(\n",
        "    [\n",
        "        [0, 1, 1, 1],  # Source nodes\n",
        "        [0, 2, 0, 1],  # Target nodes\n",
        "    ]\n",
        "\n",
        ")\n",
        "\n",
        "\n",
        "\n",
        "# Adjacency matrix\n",
        "# [1., 3., 0.],\n",
        "# [3., 4., 2.],\n",
        "# [0., 2., 0.],\n",
        "\n",
        "\n",
        "edge_weights = th.tensor([\n",
        "    1., 2., 3., 4.\n",
        "])\n",
        "\n",
        "print(node_features.shape)\n",
        "print(edge_indices.shape)\n",
        "print(edge_weights.shape)\n",
        "\n",
        "arma = ARMAConvTorch(3, 3, shared_weights=True)\n",
        "arma(node_features, edge_indices, edge_weight=edge_weights)"
      ],
      "id": "872cc564ce809c94",
      "outputs": [
        {
          "output_type": "stream",
          "name": "stdout",
          "text": [
            "torch.Size([3, 3])\n",
            "torch.Size([2, 4])\n",
            "torch.Size([4])\n"
          ]
        },
        {
          "output_type": "execute_result",
          "data": {
            "text/plain": [
              "tensor([[0., 0., 0.],\n",
              "        [0., 0., 0.],\n",
              "        [0., 0., 0.]], grad_fn=<MeanBackward1>)"
            ]
          },
          "metadata": {},
          "execution_count": 62
        }
      ],
      "execution_count": 62
    },
    {
      "metadata": {
        "ExecuteTime": {
          "end_time": "2024-04-26T12:59:48.648120Z",
          "start_time": "2024-04-26T12:59:48.642176Z"
        },
        "colab": {
          "base_uri": "https://localhost:8080/"
        },
        "id": "d16d3a525d49c1fc",
        "outputId": "2785c45b-2a22-420b-e477-b10f0f8b0e6d"
      },
      "cell_type": "code",
      "source": [
        "# node_features = tf.convert_to_tensor([\n",
        "#     [\n",
        "#         [1., 0., 0.],\n",
        "#         [0., 0., 0.],\n",
        "#         [0., 0., 0.],\n",
        "#     ],\n",
        "#     [\n",
        "#         [0., 0., 0.],\n",
        "#         [0., 2., 0.],\n",
        "#         [0., 0., 0.],\n",
        "#     ]\n",
        "# ]\n",
        "#\n",
        "# )\n",
        "#\n",
        "adjacency_graph = tf.convert_to_tensor(\n",
        "    np.array([\n",
        "        [\n",
        "            [1., 0., 0.,2.],\n",
        "            [0., 1., 0.,2.],\n",
        "            [0., 0., 1.,2.]\n",
        "        ],\n",
        "        [\n",
        "            [0., 2., 3.,5.],\n",
        "            [2., 0., 4.,0.],\n",
        "            [3., 4., 0.,0.],\n",
        "\n",
        "        ],\n",
        "    ]\n",
        "    )\n",
        ")\n",
        "\n",
        "node_features = tf.convert_to_tensor(\n",
        "    [\n",
        "        [1.0, 2.0, 3.0],\n",
        "        [1.0, 2.0, 3.0],\n",
        "        [1.0, 2.0, 3.0],\n",
        "    ]\n",
        ")\n",
        "\n",
        "adjacency_graph = tf.convert_to_tensor(\n",
        "\n",
        "    [\n",
        "        [1., 3., 0.],\n",
        "        [3., 4., 2.],\n",
        "        [0., 2., 0.],\n",
        "    ],\n",
        "\n",
        ")\n",
        "\n",
        "print(node_features.shape)\n",
        "print(adjacency_graph.shape)\n",
        "\n",
        "arma = ARMAConvSpektral(node_features.shape[-1], shared_weights=True)\n",
        "arma([node_features, adjacency_graph])"
      ],
      "id": "d16d3a525d49c1fc",
      "outputs": [
        {
          "output_type": "stream",
          "name": "stdout",
          "text": [
            "(3, 3)\n",
            "(3, 3)\n"
          ]
        },
        {
          "output_type": "stream",
          "name": "stderr",
          "text": [
            "/usr/local/lib/python3.10/dist-packages/keras/src/initializers/initializers.py:120: UserWarning: The initializer GlorotUniform is unseeded and being called multiple times, which will return identical values each time (even if the initializer is unseeded). Please update your code to provide a seed to the initializer, or avoid using the same initializer instance more than once.\n",
            "  warnings.warn(\n"
          ]
        },
        {
          "output_type": "execute_result",
          "data": {
            "text/plain": [
              "<tf.Tensor: shape=(3, 3), dtype=float32, numpy=\n",
              "array([[0., 0., 0.],\n",
              "       [0., 0., 0.],\n",
              "       [0., 0., 0.]], dtype=float32)>"
            ]
          },
          "metadata": {},
          "execution_count": 63
        }
      ],
      "execution_count": 63
    },
    {
      "metadata": {
        "ExecuteTime": {
          "end_time": "2024-04-26T06:02:02.642331Z",
          "start_time": "2024-04-26T06:02:02.634386Z"
        },
        "colab": {
          "base_uri": "https://localhost:8080/"
        },
        "id": "7ed03a16bfe4e975",
        "outputId": "fb559318-cfe4-4378-81ce-f01d6ec9ee79"
      },
      "cell_type": "code",
      "source": [
        "import torch\n",
        "from torch_geometric.nn import ARMAConv\n",
        "from torch_geometric.data import Data\n",
        "\n",
        "# Sample data preparation\n",
        "num_nodes = 10\n",
        "num_node_features = 5\n",
        "num_classes = 3\n",
        "edges = torch.tensor([[0, 1, 1, 2,2],\n",
        "                      [1, 2, 0, 3,1]], dtype=torch.long)\n",
        "node_features = torch.tensor([\n",
        "    [1.0, 2.0, 3.0, 4.0, 10.0],\n",
        "    [1.0, 2.0, 3.0, 4.0, 10.0],\n",
        "    [1.0, 2.0, 3.0, 4.0, 5.0],\n",
        "    [1.0, 2.0, 3.0, 4.0, 5.0],\n",
        "    [1.0, 2.0, 3.0, 4.0, 5.0],\n",
        "    [1.0, 2.0, 3.0, 4.0, 5.0],\n",
        "    [1.0, 2.0, 3.0, 4.0, 5.0],\n",
        "    [1.0, 2.0, 3.0, 4.0, 5.0],\n",
        "    [1.0, 2.0, 3.0, 4.0, 5.0],\n",
        "    [1.0, 2.0, 3.0, 4.0, 5.0],\n",
        "])\n",
        "\n",
        "# Graph data object\n",
        "data = Data(x=node_features, edge_index=edges)\n",
        "\n",
        "\n",
        "# Model\n",
        "class PyGARMA(torch.nn.Module):\n",
        "    def __init__(self):\n",
        "        super().__init__()\n",
        "        self.arma = ARMAConv(num_node_features, num_classes, num_stacks=1, num_layers=1)\n",
        "\n",
        "    def forward(self, data):\n",
        "        x, edge_index = data.x, data.edge_index\n",
        "        x = self.arma(x, edge_index)\n",
        "        return x\n",
        "\n",
        "\n",
        "model_pyg = PyGARMA()\n",
        "model_pyg.train()\n",
        "out = model_pyg(data)\n",
        "print(out)"
      ],
      "id": "7ed03a16bfe4e975",
      "outputs": [
        {
          "output_type": "stream",
          "name": "stdout",
          "text": [
            "tensor([[2.5138, 0.6672, 1.5112],\n",
            "        [6.6435, 1.4134, 0.0000],\n",
            "        [3.8216, 0.0000, 0.6397],\n",
            "        [3.1332, 0.5340, 1.3213],\n",
            "        [0.0000, 0.0000, 3.8102],\n",
            "        [0.0000, 0.0000, 3.8102],\n",
            "        [0.0000, 0.0000, 3.8102],\n",
            "        [0.0000, 0.0000, 3.8102],\n",
            "        [0.0000, 0.0000, 3.8102],\n",
            "        [0.0000, 0.0000, 3.8102]], grad_fn=<MeanBackward1>)\n"
          ]
        }
      ],
      "execution_count": 64
    },
    {
      "metadata": {
        "ExecuteTime": {
          "end_time": "2024-04-26T06:01:55.016192Z",
          "start_time": "2024-04-26T06:01:54.984506Z"
        },
        "colab": {
          "base_uri": "https://localhost:8080/"
        },
        "id": "73b740cc9ec6f88f",
        "outputId": "35e1fc2d-0a4a-4acb-b791-2d0d8d931812"
      },
      "cell_type": "code",
      "source": [
        "import numpy as np\n",
        "from spektral.layers import ARMAConv\n",
        "from tensorflow.keras import Model\n",
        "from tensorflow.keras.layers import Input\n",
        "from spektral.data import Graph\n",
        "\n",
        "# Converting PyTorch data to Spektral graph\n",
        "num_nodes = 10\n",
        "node_features = torch.tensor([\n",
        "    [1.0, 2.0, 3.0, 4.0, 10.0],\n",
        "    [1.0, 2.0, 3.0, 4.0, 10.0],\n",
        "    [1.0, 2.0, 3.0, 4.0, 5.0],\n",
        "    [1.0, 2.0, 3.0, 4.0, 5.0],\n",
        "    [1.0, 2.0, 3.0, 4.0, 5.0],\n",
        "    [1.0, 2.0, 3.0, 4.0, 5.0],\n",
        "    [1.0, 2.0, 3.0, 4.0, 5.0],\n",
        "    [1.0, 2.0, 3.0, 4.0, 5.0],\n",
        "    [1.0, 2.0, 3.0, 4.0, 5.0],\n",
        "    [1.0, 2.0, 3.0, 4.0, 5.0],\n",
        "])\n",
        "x = np.array(node_features)\n",
        "a = np.zeros((num_nodes, num_nodes))\n",
        "a[edges[0], edges[1]] = 1\n",
        "\n",
        "graph = Graph(x=x, a=a)\n",
        "\n",
        "\n",
        "# Spektral model\n",
        "class SpektralARMA(Model):\n",
        "\n",
        "    def __init__(self):\n",
        "        super().__init__()\n",
        "        self.arma = ARMAConv(channels=num_classes, n_stacks=1, n_layers=1)\n",
        "\n",
        "    def call(self, inputs):\n",
        "        x, a = inputs\n",
        "        return self.arma([x, a])\n",
        "\n",
        "\n",
        "x_in = Input(shape=(num_nodes,num_node_features))\n",
        "a_in = Input((num_nodes,num_nodes))\n",
        "model_spektral = SpektralARMA()\n",
        "\n",
        "print(x_in.shape)\n",
        "print(a_in.shape)\n",
        "model_spektral([x_in, a_in])\n",
        "model_spektral.compile()\n",
        "out = model_spektral([graph.x, graph.a])\n",
        "print(out)\n"
      ],
      "id": "73b740cc9ec6f88f",
      "outputs": [
        {
          "output_type": "stream",
          "name": "stdout",
          "text": [
            "(None, 10, 5)\n",
            "(None, 10, 10)\n",
            "tf.Tensor(\n",
            "[[3.1539402  1.9334886  0.        ]\n",
            " [3.304453   3.2534823  0.        ]\n",
            " [1.8779955  3.6067314  0.        ]\n",
            " [0.15051264 1.3199936  0.        ]\n",
            " [0.15051264 1.3199936  0.        ]\n",
            " [0.15051264 1.3199936  0.        ]\n",
            " [0.15051264 1.3199936  0.        ]\n",
            " [0.15051264 1.3199936  0.        ]\n",
            " [0.15051264 1.3199936  0.        ]\n",
            " [0.15051264 1.3199936  0.        ]], shape=(10, 3), dtype=float32)\n"
          ]
        }
      ],
      "execution_count": 65
    },
    {
      "metadata": {
        "ExecuteTime": {
          "end_time": "2024-04-26T06:07:11.372429Z",
          "start_time": "2024-04-26T06:07:11.365693Z"
        },
        "colab": {
          "base_uri": "https://localhost:8080/"
        },
        "id": "7e7d6ca59ef873a0",
        "outputId": "65c715f7-642a-4fba-e11d-eb118634d551"
      },
      "cell_type": "code",
      "source": [
        "import torch\n",
        "\n",
        "# Example adjacency matrices as dense tensors\n",
        "adj_matrices = torch.tensor([\n",
        "    [[1., 0., 0.],\n",
        "     [0., 1., 1.],\n",
        "     [0., 1., 1.]],\n",
        "\n",
        "    [[0., 1., 0.],\n",
        "     [1., 0., 1.],\n",
        "     [0., 1., 0.]]\n",
        "])\n",
        "\n",
        "# Convert adjacency matrices to edge_index format and edge_type\n",
        "num_nodes = adj_matrices.size(1)\n",
        "edge_index = []\n",
        "edge_type = []\n",
        "\n",
        "for i, adj in enumerate(adj_matrices):\n",
        "    row, col = torch.where(adj > 0)\n",
        "    edge_index.append(torch.stack([row, col], dim=0))\n",
        "    edge_type.append(torch.full((row.size(0),), i, dtype=torch.long))\n",
        "\n",
        "# Concatenate all edges\n",
        "edge_index = torch.cat(edge_index, dim=1)\n",
        "edge_type = torch.cat(edge_type)\n",
        "\n",
        "print(edge_index)\n",
        "print(edge_type)\n"
      ],
      "id": "7e7d6ca59ef873a0",
      "outputs": [
        {
          "output_type": "stream",
          "name": "stdout",
          "text": [
            "tensor([[0, 1, 1, 2, 2, 0, 1, 1, 2],\n",
            "        [0, 1, 2, 1, 2, 1, 0, 2, 1]])\n",
            "tensor([0, 0, 0, 0, 0, 1, 1, 1, 1])\n"
          ]
        }
      ],
      "execution_count": 66
    },
    {
      "metadata": {
        "id": "721bd8c7b336be63",
        "colab": {
          "base_uri": "https://localhost:8080/"
        },
        "outputId": "6a31563e-d86e-4786-893d-937912ad6d07"
      },
      "cell_type": "code",
      "outputs": [
        {
          "output_type": "stream",
          "name": "stderr",
          "text": [
            "<ipython-input-106-b44bbd7ed8ac>:3: UserWarning: To copy construct from a tensor, it is recommended to use sourceTensor.clone().detach() or sourceTensor.clone().detach().requires_grad_(True), rather than torch.tensor(sourceTensor).\n",
            "  input_train_tensor = [torch.tensor(data, dtype=torch.float32) for data in x]\n",
            "<ipython-input-106-b44bbd7ed8ac>:4: UserWarning: To copy construct from a tensor, it is recommended to use sourceTensor.clone().detach() or sourceTensor.clone().detach().requires_grad_(True), rather than torch.tensor(sourceTensor).\n",
            "  input_test_tensor = [torch.tensor(data, dtype=torch.float32) for data in y]\n"
          ]
        }
      ],
      "execution_count": 106,
      "source": [
        "x = torch.randn(5,5, 3)\n",
        "y = torch.randn(5,5, 3)\n",
        "input_train_tensor = [torch.tensor(data, dtype=torch.float32) for data in x]\n",
        "input_test_tensor = [torch.tensor(data, dtype=torch.float32) for data in y]\n",
        "data_list = []\n",
        "for i in range(len(input_train_tensor)):\n",
        "    num_nodes = input_train_tensor[i].shape[0]\n",
        "    edge_index = torch.randint(0, num_nodes, (2, num_nodes), dtype=torch.long)\n",
        "    data = Data(x=input_train_tensor[i], edge_index=edge_index, y=input_test_tensor[i])\n",
        "\n",
        "    data_list.append(data)\n",
        "\n",
        "\n"
      ],
      "id": "721bd8c7b336be63"
    },
    {
      "cell_type": "code",
      "source": [
        "\n",
        "batch_size = 2\n",
        "train_loader = DataLoader(data_list, batch_size=batch_size, shuffle=True)\n",
        "a = 1\n",
        "for batch in train_loader:\n",
        "    print(f\"Batch: {a}\")\n",
        "    print(\"x:\", batch.x)\n",
        "    print(\"y:\", batch.y)\n",
        "    print(\"edge_index:\", batch.edge_index)\n",
        "    print(\"Number Nodes:\", batch.num_nodes)\n",
        "    print(\"Number of graphs in the batch:\", batch.num_graphs)\n",
        "    print(\"\\n\\n\")\n",
        "\n",
        "    a = a + 1"
      ],
      "metadata": {
        "colab": {
          "base_uri": "https://localhost:8080/"
        },
        "id": "V8eC0fYNIgp0",
        "outputId": "9cbd88c6-2099-4f6e-bfa3-7357accc3a5a"
      },
      "id": "V8eC0fYNIgp0",
      "execution_count": 107,
      "outputs": [
        {
          "output_type": "stream",
          "name": "stdout",
          "text": [
            "Batch: 1\n",
            "x: tensor([[-0.2613,  0.8541, -1.0763],\n",
            "        [-1.0057,  1.1086,  0.1031],\n",
            "        [ 1.0287, -0.8067,  0.2869],\n",
            "        [ 0.7622,  1.1406,  0.3393],\n",
            "        [-0.1539,  0.8585,  0.5838],\n",
            "        [ 0.4280,  0.6156, -0.1647],\n",
            "        [ 0.7239, -0.9180, -0.5872],\n",
            "        [-0.3697, -0.4415, -0.1578],\n",
            "        [ 1.2144, -0.4634,  2.1939],\n",
            "        [ 0.0091,  0.6681, -0.1492]])\n",
            "y: tensor([[-0.5355, -0.6231, -1.5089],\n",
            "        [-0.5277, -0.6746, -1.2371],\n",
            "        [-1.3628,  1.2023, -0.7898],\n",
            "        [ 0.4992,  0.1609, -0.1483],\n",
            "        [-0.2168,  0.7827, -2.2142],\n",
            "        [ 0.6048,  0.7583,  0.9721],\n",
            "        [ 1.2337,  0.3700,  0.0603],\n",
            "        [-0.4360,  0.5730, -0.1816],\n",
            "        [-1.2227, -2.1468, -0.5743],\n",
            "        [-0.7404,  1.3041, -1.1219]])\n",
            "edge_index: tensor([[3, 1, 3, 3, 2, 7, 7, 9, 5, 8],\n",
            "        [1, 4, 2, 1, 0, 7, 8, 8, 9, 6]])\n",
            "Number Nodes: 10\n",
            "Number of graphs in the batch: 2\n",
            "\n",
            "\n",
            "\n",
            "Batch: 2\n",
            "x: tensor([[ 1.0538,  1.4814, -0.3034],\n",
            "        [ 0.9929,  0.4036,  0.1623],\n",
            "        [-0.4717,  0.7289, -1.3100],\n",
            "        [ 1.1658,  1.1733,  0.6453],\n",
            "        [-0.4173, -0.8540, -0.2931],\n",
            "        [ 0.6718,  1.3502,  0.3388],\n",
            "        [-0.5424, -1.3979,  1.3873],\n",
            "        [-1.0564,  0.7405,  1.6892],\n",
            "        [ 0.2376,  0.5576,  1.5983],\n",
            "        [ 0.5193,  0.1399,  0.9179]])\n",
            "y: tensor([[-1.2653,  1.4006, -1.3439],\n",
            "        [ 0.1005, -0.5130,  1.2863],\n",
            "        [-2.5423, -0.3713,  0.7443],\n",
            "        [ 0.1194,  1.3078,  1.2067],\n",
            "        [ 1.1371, -0.6077, -0.3052],\n",
            "        [ 1.2136,  0.6219, -0.5000],\n",
            "        [-1.4783,  1.6451,  0.2749],\n",
            "        [-0.0815, -0.4796,  0.5882],\n",
            "        [ 0.1156, -1.6686, -0.2818],\n",
            "        [ 0.5945, -1.2385,  0.7369]])\n",
            "edge_index: tensor([[0, 0, 2, 4, 4, 9, 5, 6, 7, 6],\n",
            "        [2, 4, 4, 1, 3, 6, 8, 7, 7, 9]])\n",
            "Number Nodes: 10\n",
            "Number of graphs in the batch: 2\n",
            "\n",
            "\n",
            "\n",
            "Batch: 3\n",
            "x: tensor([[-0.7450, -0.4744,  0.8324],\n",
            "        [-0.8355,  1.5104,  1.0111],\n",
            "        [ 1.3473,  2.2111, -1.3128],\n",
            "        [ 0.2506,  0.7232, -0.9964],\n",
            "        [ 1.8962,  1.1050, -0.5985]])\n",
            "y: tensor([[-1.4911, -0.1586, -1.6608],\n",
            "        [ 0.2728, -1.1336,  1.2166],\n",
            "        [-0.3966,  0.4414,  1.9857],\n",
            "        [-0.3601,  2.1007,  0.9392],\n",
            "        [ 0.9124,  1.0196, -0.4846]])\n",
            "edge_index: tensor([[3, 3, 1, 2, 3],\n",
            "        [0, 4, 2, 4, 4]])\n",
            "Number Nodes: 5\n",
            "Number of graphs in the batch: 1\n",
            "\n",
            "\n",
            "\n"
          ]
        }
      ]
    },
    {
      "cell_type": "code",
      "source": [
        "batch_size = len(input_train_tensor)\n",
        "train_loader = DataLoader(data_list, batch_size=batch_size, shuffle=True)\n",
        "a = 1\n",
        "for batch in train_loader:\n",
        "    print(f\"Batch: {a}\")\n",
        "    print(\"x:\", batch.x)\n",
        "    print(\"y:\", batch.y)\n",
        "    print(\"edge_index:\", batch.edge_index)\n",
        "    print(\"Number Nodes:\", batch.num_nodes)\n",
        "    print(\"Number of graphs in the batch:\", batch.num_graphs)\n",
        "    print(\"\\n\\n\")\n",
        "\n",
        "    a = a + 1"
      ],
      "metadata": {
        "colab": {
          "base_uri": "https://localhost:8080/"
        },
        "id": "Zqxl2VuOIvUy",
        "outputId": "3a281469-3fed-4f7f-a4e1-44bcc68cca53"
      },
      "id": "Zqxl2VuOIvUy",
      "execution_count": 97,
      "outputs": [
        {
          "output_type": "stream",
          "name": "stdout",
          "text": [
            "Batch: 1\n",
            "x: tensor([0., 3., 0., 2., 0., 0., 0., 0., 1.])\n",
            "y: tensor([0.3809, 0.2574, 0.4651, 0.5635, 0.3809, 0.0000, 0.0000, 0.4651, 0.4727])\n",
            "edge_index: tensor([[0, 0, 1, 4, 4, 5, 8, 6, 8],\n",
            "        [2, 1, 2, 3, 3, 5, 6, 6, 8]])\n",
            "Number Nodes: 9\n",
            "Number of graphs in the batch: 3\n",
            "\n",
            "\n",
            "\n"
          ]
        }
      ]
    },
    {
      "cell_type": "code",
      "source": [],
      "metadata": {
        "id": "pxGP-9-hIhvN"
      },
      "id": "pxGP-9-hIhvN",
      "execution_count": null,
      "outputs": []
    },
    {
      "cell_type": "code",
      "source": [],
      "metadata": {
        "id": "vrb58-U3FIgf"
      },
      "id": "vrb58-U3FIgf",
      "execution_count": null,
      "outputs": []
    }
  ],
  "metadata": {
    "kernelspec": {
      "display_name": "Python 3",
      "language": "python",
      "name": "python3"
    },
    "language_info": {
      "codemirror_mode": {
        "name": "ipython",
        "version": 2
      },
      "file_extension": ".py",
      "mimetype": "text/x-python",
      "name": "python",
      "nbconvert_exporter": "python",
      "pygments_lexer": "ipython2",
      "version": "2.7.6"
    },
    "colab": {
      "provenance": []
    }
  },
  "nbformat": 4,
  "nbformat_minor": 5
}