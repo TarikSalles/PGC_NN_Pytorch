{
 "cells": [
  {
   "cell_type": "code",
   "id": "initial_id",
   "metadata": {
    "collapsed": true,
    "ExecuteTime": {
     "end_time": "2024-05-09T04:23:49.686092Z",
     "start_time": "2024-05-09T04:23:44.538656Z"
    }
   },
   "source": [
    "import numpy as np\n",
    "import tensorflow as tf\n",
    "import torch as th\n",
    "from spektral.layers.convolutional import ARMAConv as ARMAConvSpektral\n",
    "from torch_geometric.nn import ARMAConv as ARMAConvTorch"
   ],
   "outputs": [
    {
     "name": "stderr",
     "output_type": "stream",
     "text": [
      "/Users/vitor/Desktop/mestrado/venv/lib/python3.9/site-packages/urllib3/__init__.py:35: NotOpenSSLWarning: urllib3 v2 only supports OpenSSL 1.1.1+, currently the 'ssl' module is compiled with 'LibreSSL 2.8.3'. See: https://github.com/urllib3/urllib3/issues/3020\n",
      "  warnings.warn(\n"
     ]
    }
   ],
   "execution_count": 2
  },
  {
   "metadata": {
    "ExecuteTime": {
     "end_time": "2024-05-09T04:28:30.358628Z",
     "start_time": "2024-05-09T04:28:30.355678Z"
    }
   },
   "cell_type": "code",
   "source": "a_input = np.load('a_input.npy')",
   "id": "4833174098f60e70",
   "outputs": [],
   "execution_count": 13
  },
  {
   "metadata": {
    "ExecuteTime": {
     "end_time": "2024-05-09T04:28:30.637274Z",
     "start_time": "2024-05-09T04:28:30.634189Z"
    }
   },
   "cell_type": "code",
   "source": "a_input.shape",
   "id": "94955ce8bb403777",
   "outputs": [
    {
     "data": {
      "text/plain": [
       "(512, 3, 3)"
      ]
     },
     "execution_count": 14,
     "metadata": {},
     "output_type": "execute_result"
    }
   ],
   "execution_count": 14
  },
  {
   "metadata": {
    "ExecuteTime": {
     "end_time": "2024-05-09T04:37:47.187703Z",
     "start_time": "2024-05-09T04:37:47.183175Z"
    }
   },
   "cell_type": "code",
   "source": [
    "b = a_input[:2]\n",
    "b"
   ],
   "id": "d9a455382a063e23",
   "outputs": [
    {
     "data": {
      "text/plain": [
       "array([[[1., 0., 0.],\n",
       "        [0., 1., 0.],\n",
       "        [0., 0., 1.]],\n",
       "\n",
       "       [[0., 1., 0.],\n",
       "        [1., 0., 0.],\n",
       "        [0., 0., 0.]]])"
      ]
     },
     "execution_count": 34,
     "metadata": {},
     "output_type": "execute_result"
    }
   ],
   "execution_count": 34
  },
  {
   "metadata": {
    "ExecuteTime": {
     "end_time": "2024-05-09T04:37:43.759076Z",
     "start_time": "2024-05-09T04:37:43.754980Z"
    }
   },
   "cell_type": "code",
   "source": "b.reshape(2*3, 3)",
   "id": "c2bd1fbbe0a9a271",
   "outputs": [
    {
     "data": {
      "text/plain": [
       "array([[1., 0., 0.],\n",
       "       [0., 1., 0.],\n",
       "       [0., 0., 1.],\n",
       "       [0., 1., 0.],\n",
       "       [1., 0., 0.],\n",
       "       [0., 0., 0.]])"
      ]
     },
     "execution_count": 33,
     "metadata": {},
     "output_type": "execute_result"
    }
   ],
   "execution_count": 33
  },
  {
   "metadata": {
    "ExecuteTime": {
     "end_time": "2024-05-09T04:37:06.975560Z",
     "start_time": "2024-05-09T04:37:06.972613Z"
    }
   },
   "cell_type": "code",
   "source": "node_features = np.load('temporal_train.npy')",
   "id": "9201ac3713c8f343",
   "outputs": [],
   "execution_count": 30
  },
  {
   "metadata": {
    "ExecuteTime": {
     "end_time": "2024-05-09T04:27:40.725008Z",
     "start_time": "2024-05-09T04:27:40.721704Z"
    }
   },
   "cell_type": "code",
   "source": "node_features.shape",
   "id": "23286b2810ea0860",
   "outputs": [
    {
     "data": {
      "text/plain": [
       "(512, 3, 48)"
      ]
     },
     "execution_count": 12,
     "metadata": {},
     "output_type": "execute_result"
    }
   ],
   "execution_count": 12
  },
  {
   "metadata": {
    "ExecuteTime": {
     "end_time": "2024-05-09T04:32:05.486856Z",
     "start_time": "2024-05-09T04:32:05.483512Z"
    }
   },
   "cell_type": "code",
   "source": "node_features[1]",
   "id": "41101f7d01e6ca6a",
   "outputs": [
    {
     "data": {
      "text/plain": [
       "array([[0., 0., 0., 0., 0., 0., 0., 0., 0., 0., 0., 0., 0., 0., 0., 0.,\n",
       "        0., 0., 0., 0., 0., 0., 0., 0., 0., 0., 0., 0., 0., 0., 0., 0.,\n",
       "        0., 0., 0., 0., 0., 0., 0., 0., 0., 1., 0., 0., 0., 0., 0., 0.],\n",
       "       [0., 0., 0., 0., 0., 0., 0., 0., 0., 0., 0., 0., 0., 0., 0., 0.,\n",
       "        0., 0., 0., 0., 0., 0., 0., 0., 0., 0., 0., 0., 0., 0., 0., 0.,\n",
       "        0., 0., 0., 0., 0., 0., 0., 0., 0., 0., 0., 0., 1., 0., 0., 0.],\n",
       "       [0., 0., 0., 0., 0., 0., 0., 0., 0., 0., 0., 0., 0., 0., 0., 0.,\n",
       "        0., 0., 0., 0., 0., 0., 0., 0., 0., 1., 0., 0., 0., 0., 0., 0.,\n",
       "        0., 0., 0., 0., 0., 0., 0., 0., 0., 0., 0., 0., 0., 0., 0., 0.]])"
      ]
     },
     "execution_count": 25,
     "metadata": {},
     "output_type": "execute_result"
    }
   ],
   "execution_count": 25
  },
  {
   "metadata": {
    "ExecuteTime": {
     "end_time": "2024-04-26T12:59:48.648120Z",
     "start_time": "2024-04-26T12:59:48.642176Z"
    }
   },
   "cell_type": "code",
   "source": [
    "adjacency_graph = tf.convert_to_tensor(\n",
    "    [\n",
    "        [\n",
    "            [1., 0., 0.],\n",
    "            [0., 1., 0.],\n",
    "            [0., 0., 1.]\n",
    "        ],\n",
    "        [\n",
    "            [0., 2., 3., 5.],\n",
    "            [2., 0., 4., 0.],\n",
    "            [3., 4., 0., 0.],\n",
    "            [5., 4., 0., 0.],\n",
    "        ],\n",
    "    ]\n",
    ")\n",
    "\n",
    "node_features = tf.convert_to_tensor(\n",
    "    [\n",
    "        [1.0, 2.0, 3.0],\n",
    "        [1.0, 2.0, 3.0],\n",
    "        [1.0, 2.0, 3.0],\n",
    "    ]\n",
    ")\n",
    "\n",
    "adjacency_graph = tf.convert_to_tensor(\n",
    "\n",
    "    [\n",
    "        [1., 3., 0.],\n",
    "        [3., 4., 2.],\n",
    "        [0., 2., 0.],\n",
    "    ],\n",
    "\n",
    ")\n",
    "\n",
    "print(node_features.shape)\n",
    "print(adjacency_graph.shape)\n",
    "\n",
    "arma = ARMAConvSpektral(node_features.shape[-1], shared_weights=True)\n",
    "arma([node_features, adjacency_graph])"
   ],
   "id": "d16d3a525d49c1fc",
   "outputs": [
    {
     "ename": "SyntaxError",
     "evalue": "invalid syntax (293872022.py, line 18)",
     "output_type": "error",
     "traceback": [
      "\u001B[0;36m  Cell \u001B[0;32mIn[191], line 18\u001B[0;36m\u001B[0m\n\u001B[0;31m    [   0     1   2\u001B[0m\n\u001B[0m              ^\u001B[0m\n\u001B[0;31mSyntaxError\u001B[0m\u001B[0;31m:\u001B[0m invalid syntax\n"
     ]
    }
   ],
   "execution_count": 191
  },
  {
   "metadata": {
    "ExecuteTime": {
     "end_time": "2024-04-26T06:02:02.642331Z",
     "start_time": "2024-04-26T06:02:02.634386Z"
    }
   },
   "cell_type": "code",
   "source": [
    "import torch\n",
    "from torch_geometric.nn import ARMAConv\n",
    "from torch_geometric.data import Data\n",
    "\n",
    "# Sample data preparation\n",
    "num_nodes = 10\n",
    "num_node_features = 5\n",
    "num_classes = 3\n",
    "edges = torch.tensor([[0, 1, 1, 2],\n",
    "                      [1, 2, 0, 3]], dtype=torch.long)\n",
    "node_features = torch.tensor([\n",
    "    [1.0, 2.0, 3.0, 4.0, 10.0],\n",
    "    [1.0, 2.0, 3.0, 4.0, 10.0],\n",
    "    [1.0, 2.0, 3.0, 4.0, 5.0],\n",
    "    [1.0, 2.0, 3.0, 4.0, 5.0],\n",
    "    [1.0, 2.0, 3.0, 4.0, 5.0],\n",
    "    [1.0, 2.0, 3.0, 4.0, 5.0],\n",
    "    [1.0, 2.0, 3.0, 4.0, 5.0],\n",
    "    [1.0, 2.0, 3.0, 4.0, 5.0],\n",
    "    [1.0, 2.0, 3.0, 4.0, 5.0],\n",
    "    [1.0, 2.0, 3.0, 4.0, 5.0],\n",
    "])\n",
    "\n",
    "# Graph data object\n",
    "data = Data(x=node_features, edge_index=edges)\n",
    "\n",
    "\n",
    "# Model\n",
    "class PyGARMA(torch.nn.Module):\n",
    "    def __init__(self):\n",
    "        super().__init__()\n",
    "        self.arma = ARMAConv(num_node_features, num_classes, num_stacks=1, num_layers=1)\n",
    "\n",
    "    def forward(self, data):\n",
    "        x, edge_index = data.x, data.edge_index\n",
    "        x = self.arma(x, edge_index)\n",
    "        return x\n",
    "\n",
    "\n",
    "model_pyg = PyGARMA()\n",
    "model_pyg.train()\n",
    "out = model_pyg(data)\n",
    "print(out)"
   ],
   "id": "7ed03a16bfe4e975",
   "outputs": [
    {
     "name": "stdout",
     "output_type": "stream",
     "text": [
      "tensor([[0.0000, 0.0000, 0.0000],\n",
      "        [0.0000, 0.0000, 0.0000],\n",
      "        [0.0000, 0.0000, 0.0000],\n",
      "        [0.0000, 0.0000, 0.0000],\n",
      "        [0.0000, 0.0000, 1.1281],\n",
      "        [0.0000, 0.0000, 1.1281],\n",
      "        [0.0000, 0.0000, 1.1281],\n",
      "        [0.0000, 0.0000, 1.1281],\n",
      "        [0.0000, 0.0000, 1.1281],\n",
      "        [0.0000, 0.0000, 1.1281]], grad_fn=<MeanBackward1>)\n"
     ]
    }
   ],
   "execution_count": 185
  },
  {
   "metadata": {
    "ExecuteTime": {
     "end_time": "2024-04-26T06:01:55.016192Z",
     "start_time": "2024-04-26T06:01:54.984506Z"
    }
   },
   "cell_type": "code",
   "source": [
    "import numpy as np\n",
    "from spektral.layers import ARMAConv\n",
    "from tensorflow.keras import Model\n",
    "from tensorflow.keras.layers import Input\n",
    "from spektral.data import Graph\n",
    "\n",
    "# Converting PyTorch data to Spektral graph\n",
    "x = np.array(node_features)\n",
    "a = np.zeros((num_nodes, num_nodes))\n",
    "a[edges[0], edges[1]] = 1\n",
    "\n",
    "graph = Graph(x=x, a=a)\n",
    "\n",
    "\n",
    "# Spektral model\n",
    "class SpektralARMA(Model):\n",
    "    def __init__(self):\n",
    "        super().__init__()\n",
    "        self.arma = ARMAConv(channels=num_classes, n_stacks=1, n_layers=1)\n",
    "\n",
    "    def call(self, inputs):\n",
    "        x, a = inputs\n",
    "        return self.arma([x, a])\n",
    "\n",
    "\n",
    "x_in = Input(shape=(num_node_features,))\n",
    "a_in = Input((num_nodes,))\n",
    "model_spektral = SpektralARMA()\n",
    "model_spektral([x_in, a_in])\n",
    "model_spektral.compile()\n",
    "out = model_spektral([graph.x, graph.a])\n",
    "print(out)\n"
   ],
   "id": "73b740cc9ec6f88f",
   "outputs": [
    {
     "name": "stdout",
     "output_type": "stream",
     "text": [
      "tf.Tensor(\n",
      "[[  0.          0.        143.30136  ]\n",
      " [  0.          0.        147.9425   ]\n",
      " [  0.          2.176948    9.282283 ]\n",
      " [  0.          1.088474    4.6411414]\n",
      " [  0.          1.088474    4.6411414]\n",
      " [  0.          1.088474    4.6411414]\n",
      " [  0.          1.088474    4.6411414]\n",
      " [  0.          1.088474    4.6411414]\n",
      " [  0.          1.088474    4.6411414]\n",
      " [  0.          1.088474    4.6411414]], shape=(10, 3), dtype=float32)\n"
     ]
    },
    {
     "name": "stderr",
     "output_type": "stream",
     "text": [
      "/Users/vitor/Desktop/mestrado/venv/lib/python3.9/site-packages/keras/src/initializers/initializers.py:120: UserWarning: The initializer GlorotUniform is unseeded and being called multiple times, which will return identical values each time (even if the initializer is unseeded). Please update your code to provide a seed to the initializer, or avoid using the same initializer instance more than once.\n",
      "  warnings.warn(\n"
     ]
    }
   ],
   "execution_count": 181
  },
  {
   "metadata": {
    "ExecuteTime": {
     "end_time": "2024-05-08T20:25:42.549920Z",
     "start_time": "2024-05-08T20:25:42.533901Z"
    }
   },
   "cell_type": "code",
   "source": [
    "import torch\n",
    "\n",
    "# Example adjacency matrices as dense tensors\n",
    "adj_matrices = torch.tensor([\n",
    "    [[1., 0., 0.],\n",
    "     [0., 1., 1.],\n",
    "     [0., 1., 1.]],\n",
    "\n",
    "    [[0., 1., 0.],\n",
    "     [1., 0., 1.],\n",
    "     [0., 1., 0.]],\n",
    "    \n",
    "    [[0., 1., 0.],\n",
    "     [1., 0., 1.],\n",
    "     [0., 1., 0.]]\n",
    "])\n",
    "\n",
    "# Convert adjacency matrices to edge_index format and edge_type\n",
    "num_nodes = adj_matrices.size(1)\n",
    "edge_index = []\n",
    "edge_type = []\n",
    "\n",
    "for i, adj in enumerate(adj_matrices):\n",
    "    row, col = torch.where(adj > 0)\n",
    "    edge_index.append(torch.stack([row, col], dim=0))\n",
    "    edge_type.append(torch.full((row.size(0),), i, dtype=torch.long))\n",
    "\n",
    "# Concatenate all edges\n",
    "edge_index = torch.cat(edge_index, dim=1)\n",
    "edge_type = torch.cat(edge_type)\n",
    "\n",
    "print(edge_index)\n",
    "print(edge_type)\n"
   ],
   "id": "7e7d6ca59ef873a0",
   "outputs": [
    {
     "name": "stdout",
     "output_type": "stream",
     "text": [
      "tensor([[0, 1, 1, 2, 2, 0, 1, 1, 2, 0, 1, 1, 2],\n",
      "        [0, 1, 2, 1, 2, 1, 0, 2, 1, 1, 0, 2, 1]])\n",
      "tensor([0, 0, 0, 0, 0, 1, 1, 1, 1, 2, 2, 2, 2])\n"
     ]
    }
   ],
   "execution_count": 6
  },
  {
   "metadata": {
    "ExecuteTime": {
     "end_time": "2024-04-26T15:13:36.107982Z",
     "start_time": "2024-04-26T15:13:36.101812Z"
    }
   },
   "cell_type": "code",
   "source": [
    "def adjacency_to_edge_index(adj_matrix):\n",
    "    \"\"\"\n",
    "    Converts an adjacency matrix to an edge_index tensor suitable for use with PyTorch Geometric,\n",
    "    considering only one entry for each undirected edge.\n",
    "\n",
    "    Parameters:\n",
    "    adj_matrix (np.ndarray or torch.Tensor): The adjacency matrix of shape (num_nodes, num_nodes)\n",
    "\n",
    "    Returns:\n",
    "    torch.Tensor: The edge_index tensor of shape (2, num_edges)\n",
    "    \"\"\"\n",
    "    # Ensure the adjacency matrix is a numpy array\n",
    "    if isinstance(adj_matrix, torch.Tensor):\n",
    "        adj_matrix = adj_matrix.numpy()\n",
    "    \n",
    "    # Find indices of non-zero elements in the upper triangle of the matrix\n",
    "    num_nodes = adj_matrix.shape[0]\n",
    "    src_nodes, dst_nodes = np.triu_indices(num_nodes, k=0)  # k=1 starts from the first off-diagonal\n",
    "    weights = adj_matrix[src_nodes, dst_nodes]  # Extract weights\n",
    "    mask = weights > 0  # Mask for non-zero entries in the upper triangle\n",
    "\n",
    "    # Filter the source and destination nodes based on the mask\n",
    "    src_nodes = src_nodes[mask]\n",
    "    dst_nodes = dst_nodes[mask]\n",
    "    weights = weights[mask]  # Filter weights based on the mask\n",
    "\n",
    "    # Convert the indices to a PyTorch tensor\n",
    "    edge_index = torch.tensor([src_nodes, dst_nodes], dtype=torch.long)\n",
    "    edge_weight = torch.tensor(weights, dtype=torch.float)  # Convert weights to a tensor\n",
    "    \n",
    "    return edge_index, edge_weight\n",
    "\n",
    "def process_batch_of_matrices(batch_adj_matrices):\n",
    "    \"\"\"\n",
    "    Processes a batch of adjacency matrices, converting each to edge_index and edge_weight tensors.\n",
    "\n",
    "    Parameters:\n",
    "    batch_adj_matrices (list of np.ndarray or list of torch.Tensor): List of adjacency matrices\n",
    "\n",
    "    Returns:\n",
    "    combined_edge_index (torch.Tensor): Combined edge_index tensor for all graphs in the batch\n",
    "    combined_edge_weights (torch.Tensor): Combined edge weights tensor for all graphs in the batch\n",
    "    \"\"\"\n",
    "    batch_edge_indices = []\n",
    "    batch_edge_weights = []\n",
    "    node_offset = 0\n",
    "\n",
    "    for adj_matrix in batch_adj_matrices:\n",
    "        edge_index, edge_weights = adjacency_to_edge_index(adj_matrix)\n",
    "        # Adjust edge indices by the current node offset\n",
    "        edge_index[0, :] += node_offset\n",
    "        edge_index[1, :] += node_offset\n",
    "        batch_edge_indices.append(edge_index)\n",
    "        batch_edge_weights.append(edge_weights)\n",
    "        # Update the node offset\n",
    "        node_offset += adj_matrix.shape[0]  # Increment the node offset by the number of nodes in the current graph\n",
    "\n",
    "    # Combine all edge indices and weights from the batch into single tensors\n",
    "    combined_edge_index = torch.cat(batch_edge_indices, dim=1)\n",
    "    combined_edge_weights = torch.cat(batch_edge_weights, dim=0)\n",
    "    \n",
    "    return combined_edge_index, combined_edge_weights\n"
   ],
   "id": "721bd8c7b336be63",
   "outputs": [],
   "execution_count": 218
  },
  {
   "metadata": {
    "ExecuteTime": {
     "end_time": "2024-05-08T20:25:46.224302Z",
     "start_time": "2024-05-08T20:25:46.216052Z"
    }
   },
   "cell_type": "code",
   "source": [
    "def adjacency_to_edge_index_with_weights(adj_matrix):\n",
    "    if isinstance(adj_matrix, torch.Tensor):\n",
    "        adj_matrix = adj_matrix.numpy()\n",
    "    num_nodes = adj_matrix.shape[0]\n",
    "    src_nodes, dst_nodes = np.triu_indices(num_nodes, k=0)\n",
    "    weights = adj_matrix[src_nodes, dst_nodes]\n",
    "    mask = weights > 0\n",
    "    src_nodes = src_nodes[mask]\n",
    "    dst_nodes = dst_nodes[mask]\n",
    "    weights = weights[mask]\n",
    "    return torch.tensor([src_nodes, dst_nodes], dtype=torch.long), torch.tensor(weights, dtype=torch.float)\n",
    "\n",
    "def process_batch_of_matrices(batch_adj_matrices):\n",
    "    \"\"\"\n",
    "    Processes a batch of adjacency matrices, each converted to separate edge_index and edge_weight tensors.\n",
    "\n",
    "    Parameters:\n",
    "    batch_adj_matrices (list of np.ndarray or list of torch.Tensor): List of adjacency matrices\n",
    "\n",
    "    Returns:\n",
    "    list of tuples: Each tuple contains (edge_index, edge_weight) for each graph in the batch\n",
    "    \"\"\"\n",
    "    results = []\n",
    "\n",
    "    for adj_matrix in batch_adj_matrices:\n",
    "        edge_index, edge_weights = adjacency_to_edge_index_with_weights(adj_matrix)\n",
    "        results.append((edge_index, edge_weights))\n",
    "\n",
    "    return results\n",
    "\n",
    "def pad_matrices(batch_results, max_edges=3):\n",
    "    \"\"\"\n",
    "    Pad the edge indices and weights of graphs to ensure all have the same number of edges (max_edges).\n",
    "\n",
    "    Parameters:\n",
    "    batch_results (list of tuples): Each tuple contains (edge_index, edge_weight) for each graph\n",
    "    max_edges (int): Maximum number of edges per graph matrix\n",
    "\n",
    "    Returns:\n",
    "    np.ndarray: Array of shape (num_graphs, 2, max_edges) for edge indices\n",
    "    np.ndarray: Array of shape (num_graphs, max_edges) for edge weights\n",
    "    \"\"\"\n",
    "    num_graphs = len(batch_results)\n",
    "    padded_edge_indices = np.zeros((num_graphs, 2, max_edges), dtype=int)\n",
    "    padded_edge_weights = np.zeros((num_graphs, max_edges), dtype=float)\n",
    "\n",
    "    for i, (edge_index, edge_weights) in enumerate(batch_results):\n",
    "        num_edges = edge_index.shape[1]\n",
    "        if num_edges > 0:\n",
    "            num_to_copy = min(num_edges, max_edges)\n",
    "            padded_edge_indices[i, :, :num_to_copy] = edge_index[:, :num_to_copy]\n",
    "            padded_edge_weights[i, :num_to_copy] = edge_weights[:num_to_copy]\n",
    "    \n",
    "    return padded_edge_indices, padded_edge_weights"
   ],
   "id": "cc87eb59b8f52e2b",
   "outputs": [],
   "execution_count": 7
  },
  {
   "metadata": {},
   "cell_type": "code",
   "outputs": [
    {
     "data": {
      "text/plain": [
       "(array([[[0, 0, 0],\n",
       "         [1, 0, 0]],\n",
       " \n",
       "        [[0, 1, 0],\n",
       "         [1, 2, 0]],\n",
       " \n",
       "        [[0, 1, 0],\n",
       "         [1, 2, 0]],\n",
       " \n",
       "        [[0, 1, 0],\n",
       "         [1, 2, 0]],\n",
       " \n",
       "        [[1, 2, 0],\n",
       "         [1, 2, 0]],\n",
       " \n",
       "        [[0, 0, 1],\n",
       "         [1, 2, 1]]]),\n",
       " array([[1.        , 0.        , 0.        ],\n",
       "        [0.70710677, 0.70710677, 0.        ],\n",
       "        [0.70710677, 0.70710677, 0.        ],\n",
       "        [0.70710677, 0.70710677, 0.        ],\n",
       "        [1.        , 1.        , 0.        ],\n",
       "        [0.40824831, 0.57735026, 0.75      ]]))"
      ]
     },
     "execution_count": 233,
     "metadata": {},
     "output_type": "execute_result"
    }
   ],
   "execution_count": 233,
   "source": "",
   "id": "54e05010e89017c"
  },
  {
   "metadata": {
    "ExecuteTime": {
     "end_time": "2024-04-26T15:21:52.801950Z",
     "start_time": "2024-04-26T15:21:52.796421Z"
    }
   },
   "cell_type": "code",
   "source": "a_input[2:8]",
   "id": "9e9ebe1aac26381f",
   "outputs": [
    {
     "data": {
      "text/plain": [
       "array([[[0.        , 1.        , 0.        ],\n",
       "        [1.        , 0.        , 0.        ],\n",
       "        [0.        , 0.        , 0.        ]],\n",
       "\n",
       "       [[0.        , 0.70710678, 0.        ],\n",
       "        [0.70710678, 0.        , 0.70710678],\n",
       "        [0.        , 0.70710678, 0.        ]],\n",
       "\n",
       "       [[0.        , 0.70710678, 0.        ],\n",
       "        [0.70710678, 0.        , 0.70710678],\n",
       "        [0.        , 0.70710678, 0.        ]],\n",
       "\n",
       "       [[0.        , 0.70710678, 0.        ],\n",
       "        [0.70710678, 0.        , 0.70710678],\n",
       "        [0.        , 0.70710678, 0.        ]],\n",
       "\n",
       "       [[0.        , 0.        , 0.        ],\n",
       "        [0.        , 1.        , 0.        ],\n",
       "        [0.        , 0.        , 1.        ]],\n",
       "\n",
       "       [[0.        , 0.40824829, 0.57735027],\n",
       "        [0.40824829, 0.75      , 0.        ],\n",
       "        [0.57735027, 0.        , 0.        ]]])"
      ]
     },
     "execution_count": 234,
     "metadata": {},
     "output_type": "execute_result"
    }
   ],
   "execution_count": 234
  },
  {
   "metadata": {
    "ExecuteTime": {
     "end_time": "2024-05-08T20:41:23.861336Z",
     "start_time": "2024-05-08T20:41:23.855821Z"
    }
   },
   "cell_type": "code",
   "source": [
    "def adjacency_to_edge_index_with_weights(adj_matrix):\n",
    "    if isinstance(adj_matrix, torch.Tensor):\n",
    "        adj_matrix = adj_matrix.numpy()\n",
    "    num_nodes = adj_matrix.shape[0]\n",
    "    src_nodes, dst_nodes = np.triu_indices(num_nodes, k=0)\n",
    "    weights = adj_matrix[src_nodes, dst_nodes]\n",
    "    mask = weights > 0\n",
    "    src_nodes = src_nodes[mask]\n",
    "    dst_nodes = dst_nodes[mask]\n",
    "    weights = weights[mask]\n",
    "    return torch.tensor([src_nodes, dst_nodes], dtype=torch.long), torch.tensor(weights, dtype=torch.float)\n",
    "\n",
    "def prepare_pyg_batch(batch_adj_matrices, max_edges=3):\n",
    "    \"\"\"\n",
    "    Adjusts edge indices and concatenates them for a batch of graphs, preparing for PyG DataLoader.\n",
    "    \n",
    "    Parameters:\n",
    "    batch_adj_matrices (list of np.ndarray): List of adjacency matrices.\n",
    "    \n",
    "    Returns:\n",
    "    edge_indices (torch.Tensor): All edge indices combined, adjusted for cumulative node counts.\n",
    "    edge_weights (torch.Tensor): All edge weights combined.\n",
    "    \"\"\"\n",
    "    num_graphs = len(batch_adj_matrices)\n",
    "    cumulative_nodes = 0\n",
    "    all_edge_indices = []\n",
    "    all_edge_weights = []\n",
    "\n",
    "    for adj_matrix in batch_adj_matrices:\n",
    "        edge_index, edge_weights = adjacency_to_edge_index_with_weights(adj_matrix)\n",
    "        # Adjust edge indices based on the cumulative number of nodes processed\n",
    "        edge_index[0, :] += cumulative_nodes\n",
    "        edge_index[1, :] += cumulative_nodes\n",
    "        all_edge_indices.append(edge_index)\n",
    "        all_edge_weights.append(edge_weights)\n",
    "        # Update the cumulative nodes count\n",
    "        cumulative_nodes += adj_matrix.shape[0]\n",
    "\n",
    "    # Concatenate all edge indices and weights into single tensors\n",
    "    combined_edge_index = torch.cat(all_edge_indices, dim=1)\n",
    "    combined_edge_weights = torch.cat(all_edge_weights, dim=0)\n",
    "    \n",
    "    \n",
    "\n",
    "    return combined_edge_index, combined_edge_weights"
   ],
   "id": "7c268c0a49515199",
   "outputs": [],
   "execution_count": 30
  },
  {
   "metadata": {
    "ExecuteTime": {
     "end_time": "2024-05-09T03:49:35.394024Z",
     "start_time": "2024-05-09T03:49:35.382173Z"
    }
   },
   "cell_type": "code",
   "source": "prepare_pyg_batch(a_input[:4])",
   "id": "9602c7216a350393",
   "outputs": [
    {
     "data": {
      "text/plain": [
       "(tensor([[ 0,  1,  2,  3,  6,  9, 10],\n",
       "         [ 0,  1,  2,  4,  7, 10, 11]]),\n",
       " tensor([1.0000, 1.0000, 1.0000, 1.0000, 1.0000, 0.7071, 0.7071]))"
      ]
     },
     "execution_count": 35,
     "metadata": {},
     "output_type": "execute_result"
    }
   ],
   "execution_count": 35
  },
  {
   "metadata": {
    "ExecuteTime": {
     "end_time": "2024-05-08T20:42:02.708420Z",
     "start_time": "2024-05-08T20:42:02.704149Z"
    }
   },
   "cell_type": "code",
   "source": "",
   "id": "d8cd329e8765008b",
   "outputs": [
    {
     "data": {
      "text/plain": [
       "7"
      ]
     },
     "execution_count": 34,
     "metadata": {},
     "output_type": "execute_result"
    }
   ],
   "execution_count": 34
  },
  {
   "metadata": {
    "ExecuteTime": {
     "end_time": "2024-05-08T20:32:31.700754Z",
     "start_time": "2024-05-08T20:32:31.698323Z"
    }
   },
   "cell_type": "code",
   "source": [
    "#parse tensor vectors to arrays \n",
    "print(np.array(cc))"
   ],
   "id": "180c18c1546fd2bd",
   "outputs": [
    {
     "name": "stdout",
     "output_type": "stream",
     "text": [
      "[[ 0  1  2  3  6  9 10]\n",
      " [ 0  1  2  4  7 10 11]]\n"
     ]
    }
   ],
   "execution_count": 18
  },
  {
   "metadata": {
    "ExecuteTime": {
     "end_time": "2024-05-08T20:40:27.471452Z",
     "start_time": "2024-05-08T20:40:27.467761Z"
    }
   },
   "cell_type": "code",
   "source": "a_input[:1]",
   "id": "b676d4c37e8c0fd8",
   "outputs": [
    {
     "data": {
      "text/plain": [
       "array([[[1., 0., 0.],\n",
       "        [0., 1., 0.],\n",
       "        [0., 0., 1.]]])"
      ]
     },
     "execution_count": 22,
     "metadata": {},
     "output_type": "execute_result"
    }
   ],
   "execution_count": 22
  },
  {
   "metadata": {
    "ExecuteTime": {
     "end_time": "2024-05-08T20:41:13.114140Z",
     "start_time": "2024-05-08T20:41:13.110268Z"
    }
   },
   "cell_type": "code",
   "source": "torch.tensor([1,2,3]).size(0)",
   "id": "8970d9d8e4361b03",
   "outputs": [
    {
     "data": {
      "text/plain": [
       "3"
      ]
     },
     "execution_count": 29,
     "metadata": {},
     "output_type": "execute_result"
    }
   ],
   "execution_count": 29
  },
  {
   "metadata": {},
   "cell_type": "code",
   "outputs": [],
   "execution_count": null,
   "source": "",
   "id": "4c8aa016d5568216"
  }
 ],
 "metadata": {
  "kernelspec": {
   "display_name": "Python 3",
   "language": "python",
   "name": "python3"
  },
  "language_info": {
   "codemirror_mode": {
    "name": "ipython",
    "version": 2
   },
   "file_extension": ".py",
   "mimetype": "text/x-python",
   "name": "python",
   "nbconvert_exporter": "python",
   "pygments_lexer": "ipython2",
   "version": "2.7.6"
  }
 },
 "nbformat": 4,
 "nbformat_minor": 5
}
