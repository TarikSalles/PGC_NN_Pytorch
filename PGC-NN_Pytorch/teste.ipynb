{
 "cells": [
  {
   "cell_type": "code",
   "id": "initial_id",
   "metadata": {
    "collapsed": true,
    "ExecuteTime": {
     "end_time": "2024-04-26T05:23:19.376919Z",
     "start_time": "2024-04-26T05:23:19.373888Z"
    }
   },
   "source": [
    "import numpy as np\n",
    "import tensorflow as tf\n",
    "import torch as th\n",
    "from spektral.layers.convolutional import ARMAConv as ARMAConvSpektral\n",
    "from torch_geometric.nn import ARMAConv as ARMAConvTorch"
   ],
   "outputs": [],
   "execution_count": 112
  },
  {
   "metadata": {
    "ExecuteTime": {
     "end_time": "2024-04-26T03:50:57.212579Z",
     "start_time": "2024-04-26T03:50:57.209662Z"
    }
   },
   "cell_type": "code",
   "source": "a_input = np.load('adjacency_df.npy')",
   "id": "4833174098f60e70",
   "outputs": [],
   "execution_count": 5
  },
  {
   "metadata": {
    "ExecuteTime": {
     "end_time": "2024-04-26T04:00:31.868569Z",
     "start_time": "2024-04-26T04:00:31.864006Z"
    }
   },
   "cell_type": "code",
   "source": [
    "def array_matrices_to_array_edge_index(array_matrices: np.ndarray):\n",
    "    print(array_matrices.shape)\n",
    "    array_edge_indices = []\n",
    "    array_edge_indices_weighted = []\n",
    "\n",
    "    # Iterate over the adjacency matrices\n",
    "    for matrix in array_matrices:\n",
    "        edge_indices = []\n",
    "        edge_weights = []\n",
    "        for i in range(matrix.shape[0]):\n",
    "            for j in range(matrix.shape[1]):\n",
    "                if matrix[i, j] != 0:\n",
    "                    # Add the edge indices and the weight\n",
    "                    edge_indices.append([i, j])\n",
    "                    edge_weights.append(matrix[i, j])\n",
    "\n",
    "        #the edge indices and weights shuld always contain 3 columns, fill with [] if not\n",
    "\n",
    "        edge_indices = np.array(edge_indices)\n",
    "        edge_weights = np.array(edge_weights)\n",
    "        array_edge_indices.append(edge_indices)\n",
    "        array_edge_indices_weighted.append(edge_weights)\n",
    "\n",
    "    return np.array(array_edge_indices), np.array(array_edge_indices_weighted)"
   ],
   "id": "9201ac3713c8f343",
   "outputs": [],
   "execution_count": 25
  },
  {
   "metadata": {
    "ExecuteTime": {
     "end_time": "2024-04-26T04:01:01.427361Z",
     "start_time": "2024-04-26T04:01:01.422031Z"
    }
   },
   "cell_type": "code",
   "source": "array_matrices_to_array_edge_index(a_input[1:2])",
   "id": "23286b2810ea0860",
   "outputs": [
    {
     "name": "stdout",
     "output_type": "stream",
     "text": [
      "(1, 3, 3)\n"
     ]
    },
    {
     "data": {
      "text/plain": [
       "(array([[[0, 1],\n",
       "         [1, 0]]]),\n",
       " array([[1., 1.]]))"
      ]
     },
     "execution_count": 29,
     "metadata": {},
     "output_type": "execute_result"
    }
   ],
   "execution_count": 29
  },
  {
   "metadata": {
    "ExecuteTime": {
     "end_time": "2024-04-26T05:55:47.385529Z",
     "start_time": "2024-04-26T05:55:47.378623Z"
    }
   },
   "cell_type": "code",
   "source": [
    "node_features = th.tensor([\n",
    "    [1.0, 2.0, 3.0],\n",
    "    [1.0, 2.0, 3.0],\n",
    "    [1.0, 2.0, 3.0],\n",
    "])\n",
    "\n",
    "edge_indices = th.tensor(\n",
    "    [\n",
    "        [0, 1, 1, 1],  # Source nodes\n",
    "        [0, 2, 0, 1],  # Target nodes\n",
    "    ]\n",
    "\n",
    ")\n",
    "\n",
    "data = PairData(x=node_features, edge_index=edge_indices)\n",
    "\n",
    "# Adjacency matrix\n",
    "# [1., 3., 0.],\n",
    "# [3., 4., 2.],\n",
    "# [0., 2., 0.],\n",
    "\n",
    "\n",
    "edge_weights = th.tensor([\n",
    "    1., 2., 3., 4.\n",
    "])\n",
    "\n",
    "print(node_features.shape)\n",
    "print(edge_indices.shape)\n",
    "print(edge_weights.shape)\n",
    "\n",
    "arma = ARMAConvTorch(3, 3, shared_weights=True)\n",
    "arma(node_features, edge_indices, edge_weight=edge_weights)"
   ],
   "id": "872cc564ce809c94",
   "outputs": [
    {
     "name": "stdout",
     "output_type": "stream",
     "text": [
      "torch.Size([3, 3])\n",
      "torch.Size([2, 4])\n",
      "torch.Size([4])\n"
     ]
    },
    {
     "data": {
      "text/plain": [
       "tensor([[0.0000, 2.1091, 0.0000],\n",
       "        [0.0000, 2.1091, 0.0000],\n",
       "        [0.4610, 0.7938, 0.0000]], grad_fn=<MeanBackward1>)"
      ]
     },
     "execution_count": 133,
     "metadata": {},
     "output_type": "execute_result"
    }
   ],
   "execution_count": 133
  },
  {
   "metadata": {
    "ExecuteTime": {
     "end_time": "2024-04-26T12:59:48.648120Z",
     "start_time": "2024-04-26T12:59:48.642176Z"
    }
   },
   "cell_type": "code",
   "source": [
    "# node_features = tf.convert_to_tensor([\n",
    "#     [\n",
    "#         [1., 0., 0.],\n",
    "#         [0., 0., 0.],\n",
    "#         [0., 0., 0.],\n",
    "#     ],\n",
    "#     [\n",
    "#         [0., 0., 0.],\n",
    "#         [0., 2., 0.],\n",
    "#         [0., 0., 0.],\n",
    "#     ]\n",
    "# ]\n",
    "# \n",
    "# )\n",
    "# \n",
    "adjacency_graph = tf.convert_to_tensor(\n",
    "    [\n",
    "        [\n",
    "            [1., 0., 0.],\n",
    "            [0., 1., 0.],\n",
    "            [0., 0., 1.]\n",
    "        ],\n",
    "        [\n",
    "            [0., 2., 3.,5.],\n",
    "            [2., 0., 4.,0.],\n",
    "            [3., 4., 0.,0.],\n",
    "            [5., 4., 0.,0.],\n",
    "        ],\n",
    "    ]\n",
    ")\n",
    "\n",
    "node_features = tf.convert_to_tensor(\n",
    "    [\n",
    "        [1.0, 2.0, 3.0],\n",
    "        [1.0, 2.0, 3.0],\n",
    "        [1.0, 2.0, 3.0],\n",
    "    ]\n",
    ")\n",
    "\n",
    "adjacency_graph = tf.convert_to_tensor(\n",
    "\n",
    "    [\n",
    "        [1., 3., 0.],\n",
    "        [3., 4., 2.],\n",
    "        [0., 2., 0.],\n",
    "    ],\n",
    "\n",
    ")\n",
    "\n",
    "print(node_features.shape)\n",
    "print(adjacency_graph.shape)\n",
    "\n",
    "arma = ARMAConvSpektral(node_features.shape[-1], shared_weights=True)\n",
    "arma([node_features, adjacency_graph])"
   ],
   "id": "d16d3a525d49c1fc",
   "outputs": [
    {
     "ename": "SyntaxError",
     "evalue": "invalid syntax (293872022.py, line 18)",
     "output_type": "error",
     "traceback": [
      "\u001B[0;36m  Cell \u001B[0;32mIn[191], line 18\u001B[0;36m\u001B[0m\n\u001B[0;31m    [   0     1   2\u001B[0m\n\u001B[0m              ^\u001B[0m\n\u001B[0;31mSyntaxError\u001B[0m\u001B[0;31m:\u001B[0m invalid syntax\n"
     ]
    }
   ],
   "execution_count": 191
  },
  {
   "metadata": {
    "ExecuteTime": {
     "end_time": "2024-04-26T06:02:02.642331Z",
     "start_time": "2024-04-26T06:02:02.634386Z"
    }
   },
   "cell_type": "code",
   "source": [
    "import torch\n",
    "from torch_geometric.nn import ARMAConv\n",
    "from torch_geometric.data import Data\n",
    "\n",
    "# Sample data preparation\n",
    "num_nodes = 10\n",
    "num_node_features = 5\n",
    "num_classes = 3\n",
    "edges = torch.tensor([[0, 1, 1, 2],\n",
    "                      [1, 2, 0, 3]], dtype=torch.long)\n",
    "node_features = torch.tensor([\n",
    "    [1.0, 2.0, 3.0, 4.0, 10.0],\n",
    "    [1.0, 2.0, 3.0, 4.0, 10.0],\n",
    "    [1.0, 2.0, 3.0, 4.0, 5.0],\n",
    "    [1.0, 2.0, 3.0, 4.0, 5.0],\n",
    "    [1.0, 2.0, 3.0, 4.0, 5.0],\n",
    "    [1.0, 2.0, 3.0, 4.0, 5.0],\n",
    "    [1.0, 2.0, 3.0, 4.0, 5.0],\n",
    "    [1.0, 2.0, 3.0, 4.0, 5.0],\n",
    "    [1.0, 2.0, 3.0, 4.0, 5.0],\n",
    "    [1.0, 2.0, 3.0, 4.0, 5.0],\n",
    "])\n",
    "\n",
    "# Graph data object\n",
    "data = Data(x=node_features, edge_index=edges)\n",
    "\n",
    "\n",
    "# Model\n",
    "class PyGARMA(torch.nn.Module):\n",
    "    def __init__(self):\n",
    "        super().__init__()\n",
    "        self.arma = ARMAConv(num_node_features, num_classes, num_stacks=1, num_layers=1)\n",
    "\n",
    "    def forward(self, data):\n",
    "        x, edge_index = data.x, data.edge_index\n",
    "        x = self.arma(x, edge_index)\n",
    "        return x\n",
    "\n",
    "\n",
    "model_pyg = PyGARMA()\n",
    "model_pyg.train()\n",
    "out = model_pyg(data)\n",
    "print(out)"
   ],
   "id": "7ed03a16bfe4e975",
   "outputs": [
    {
     "name": "stdout",
     "output_type": "stream",
     "text": [
      "tensor([[0.0000, 0.0000, 0.0000],\n",
      "        [0.0000, 0.0000, 0.0000],\n",
      "        [0.0000, 0.0000, 0.0000],\n",
      "        [0.0000, 0.0000, 0.0000],\n",
      "        [0.0000, 0.0000, 1.1281],\n",
      "        [0.0000, 0.0000, 1.1281],\n",
      "        [0.0000, 0.0000, 1.1281],\n",
      "        [0.0000, 0.0000, 1.1281],\n",
      "        [0.0000, 0.0000, 1.1281],\n",
      "        [0.0000, 0.0000, 1.1281]], grad_fn=<MeanBackward1>)\n"
     ]
    }
   ],
   "execution_count": 185
  },
  {
   "metadata": {
    "ExecuteTime": {
     "end_time": "2024-04-26T06:01:55.016192Z",
     "start_time": "2024-04-26T06:01:54.984506Z"
    }
   },
   "cell_type": "code",
   "source": [
    "import numpy as np\n",
    "from spektral.layers import ARMAConv\n",
    "from tensorflow.keras import Model\n",
    "from tensorflow.keras.layers import Input\n",
    "from spektral.data import Graph\n",
    "\n",
    "# Converting PyTorch data to Spektral graph\n",
    "x = np.array(node_features)\n",
    "a = np.zeros((num_nodes, num_nodes))\n",
    "a[edges[0], edges[1]] = 1\n",
    "\n",
    "graph = Graph(x=x, a=a)\n",
    "\n",
    "\n",
    "# Spektral model\n",
    "class SpektralARMA(Model):\n",
    "    def __init__(self):\n",
    "        super().__init__()\n",
    "        self.arma = ARMAConv(channels=num_classes, n_stacks=1, n_layers=1)\n",
    "\n",
    "    def call(self, inputs):\n",
    "        x, a = inputs\n",
    "        return self.arma([x, a])\n",
    "\n",
    "\n",
    "x_in = Input(shape=(num_node_features,))\n",
    "a_in = Input((num_nodes,))\n",
    "model_spektral = SpektralARMA()\n",
    "model_spektral([x_in, a_in])\n",
    "model_spektral.compile()\n",
    "out = model_spektral([graph.x, graph.a])\n",
    "print(out)\n"
   ],
   "id": "73b740cc9ec6f88f",
   "outputs": [
    {
     "name": "stdout",
     "output_type": "stream",
     "text": [
      "tf.Tensor(\n",
      "[[  0.          0.        143.30136  ]\n",
      " [  0.          0.        147.9425   ]\n",
      " [  0.          2.176948    9.282283 ]\n",
      " [  0.          1.088474    4.6411414]\n",
      " [  0.          1.088474    4.6411414]\n",
      " [  0.          1.088474    4.6411414]\n",
      " [  0.          1.088474    4.6411414]\n",
      " [  0.          1.088474    4.6411414]\n",
      " [  0.          1.088474    4.6411414]\n",
      " [  0.          1.088474    4.6411414]], shape=(10, 3), dtype=float32)\n"
     ]
    },
    {
     "name": "stderr",
     "output_type": "stream",
     "text": [
      "/Users/vitor/Desktop/mestrado/venv/lib/python3.9/site-packages/keras/src/initializers/initializers.py:120: UserWarning: The initializer GlorotUniform is unseeded and being called multiple times, which will return identical values each time (even if the initializer is unseeded). Please update your code to provide a seed to the initializer, or avoid using the same initializer instance more than once.\n",
      "  warnings.warn(\n"
     ]
    }
   ],
   "execution_count": 181
  },
  {
   "metadata": {
    "ExecuteTime": {
     "end_time": "2024-04-26T06:07:11.372429Z",
     "start_time": "2024-04-26T06:07:11.365693Z"
    }
   },
   "cell_type": "code",
   "source": [
    "import torch\n",
    "\n",
    "# Example adjacency matrices as dense tensors\n",
    "adj_matrices = torch.tensor([\n",
    "    [[1., 0., 0.],\n",
    "     [0., 1., 1.],\n",
    "     [0., 1., 1.]],\n",
    "\n",
    "    [[0., 1., 0.],\n",
    "     [1., 0., 1.],\n",
    "     [0., 1., 0.]]\n",
    "])\n",
    "\n",
    "# Convert adjacency matrices to edge_index format and edge_type\n",
    "num_nodes = adj_matrices.size(1)\n",
    "edge_index = []\n",
    "edge_type = []\n",
    "\n",
    "for i, adj in enumerate(adj_matrices):\n",
    "    row, col = torch.where(adj > 0)\n",
    "    edge_index.append(torch.stack([row, col], dim=0))\n",
    "    edge_type.append(torch.full((row.size(0),), i, dtype=torch.long))\n",
    "\n",
    "# Concatenate all edges\n",
    "edge_index = torch.cat(edge_index, dim=1)\n",
    "edge_type = torch.cat(edge_type)\n",
    "\n",
    "print(edge_index)\n",
    "print(edge_type)\n"
   ],
   "id": "7e7d6ca59ef873a0",
   "outputs": [
    {
     "name": "stdout",
     "output_type": "stream",
     "text": [
      "tensor([[0, 1, 1, 2, 2, 0, 1, 1, 2],\n",
      "        [0, 1, 2, 1, 2, 1, 0, 2, 1]])\n",
      "tensor([0, 0, 0, 0, 0, 1, 1, 1, 1])\n"
     ]
    }
   ],
   "execution_count": 187
  },
  {
   "metadata": {},
   "cell_type": "code",
   "outputs": [],
   "execution_count": null,
   "source": "",
   "id": "721bd8c7b336be63"
  }
 ],
 "metadata": {
  "kernelspec": {
   "display_name": "Python 3",
   "language": "python",
   "name": "python3"
  },
  "language_info": {
   "codemirror_mode": {
    "name": "ipython",
    "version": 2
   },
   "file_extension": ".py",
   "mimetype": "text/x-python",
   "name": "python",
   "nbconvert_exporter": "python",
   "pygments_lexer": "ipython2",
   "version": "2.7.6"
  }
 },
 "nbformat": 4,
 "nbformat_minor": 5
}
