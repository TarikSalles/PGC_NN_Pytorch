{
 "cells": [
  {
   "cell_type": "markdown",
   "id": "17fad4b3",
   "metadata": {},
   "source": [
    "# Libraries"
   ]
  },
  {
   "cell_type": "code",
   "execution_count": 7,
   "id": "17cfd500",
   "metadata": {
    "ExecuteTime": {
     "end_time": "2023-12-01T19:07:55.266215Z",
     "start_time": "2023-12-01T19:07:55.263013Z"
    }
   },
   "outputs": [],
   "source": [
    "import pandas as pd\n",
    "import math\n",
    "import numpy as np"
   ]
  },
  {
   "cell_type": "markdown",
   "id": "8d7563a8",
   "metadata": {},
   "source": [
    "# Generating dataset baseline - per state"
   ]
  },
  {
   "cell_type": "code",
   "execution_count": null,
   "id": "bf2acc35",
   "metadata": {
    "is_executing": true
   },
   "outputs": [],
   "source": [
    "# gowalla/checkins.csv é o arquivo gowalla_geo_checkins.csv gerado pelo Paulo\n",
    "g_dataset = pd.read_csv('checkins_data/checkins_local_Alabama.csv', index_col=False, usecols = ['userid', 'datetime', 'lat', 'lng', 'placeid', 'categoryid'])\n"
   ]
  },
  {
   "cell_type": "code",
   "execution_count": 9,
   "id": "103e982b",
   "metadata": {
    "ExecuteTime": {
     "end_time": "2023-12-01T19:07:56.784628Z",
     "start_time": "2023-12-01T19:07:56.781869Z"
    }
   },
   "outputs": [],
   "source": [
    "g_dataset['country'] = 'United States'\n",
    "g_dataset['state'] = 'Alabama'"
   ]
  },
  {
   "cell_type": "code",
   "execution_count": 10,
   "id": "1f96c8f6",
   "metadata": {
    "ExecuteTime": {
     "end_time": "2023-12-01T19:07:57.198449Z",
     "start_time": "2023-12-01T19:07:57.185250Z"
    }
   },
   "outputs": [],
   "source": [
    "# datetime converter\n",
    "g_dataset['datetime'] = pd.to_datetime(g_dataset['datetime'])\n",
    "order_cols = ['userid', 'categoryid', 'placeid', 'datetime', 'lat', 'lng', 'country', 'state']\n",
    "g_dataset = g_dataset[order_cols]"
   ]
  },
  {
   "cell_type": "code",
   "execution_count": 11,
   "id": "28abccc7",
   "metadata": {
    "ExecuteTime": {
     "end_time": "2023-12-01T19:07:57.575412Z",
     "start_time": "2023-12-01T19:07:57.568454Z"
    }
   },
   "outputs": [],
   "source": [
    "cols = ['userid', 'category', 'placeid', 'local_datetime', 'latitude', 'longitude', 'country_name', 'state_name']\n",
    "# Criar um dicionário que mapeia os nomes atuais das colunas para os novos nomes\n",
    "maps = dict(zip(g_dataset.columns, cols))\n",
    "\n",
    "# Renomear as colunas usando o método rename()\n",
    "g_dataset = g_dataset.rename(columns=maps)"
   ]
  },
  {
   "cell_type": "code",
   "execution_count": 15,
   "id": "62987b28",
   "metadata": {
    "ExecuteTime": {
     "end_time": "2023-12-01T19:08:11.153008Z",
     "start_time": "2023-12-01T19:08:11.145358Z"
    }
   },
   "outputs": [],
   "source": [
    "# category_names.csv é o arquivo category_names.csv gerado pelo Paulo\n",
    "\n",
    "categories = pd.read_csv('checkins_data/category_name.csv')"
   ]
  },
  {
   "cell_type": "code",
   "execution_count": 16,
   "id": "70e68f0c",
   "metadata": {
    "ExecuteTime": {
     "end_time": "2023-12-01T19:08:12.300979Z",
     "start_time": "2023-12-01T19:08:12.295519Z"
    }
   },
   "outputs": [],
   "source": [
    "g_dataset = pd.merge(g_dataset, categories, left_on=\"category\", right_on=\"categoryid\")\n",
    "g_dataset['category'] = g_dataset['name']\n",
    "g_dataset.drop(['name', 'categoryid'], axis=1, inplace=True)"
   ]
  },
  {
   "cell_type": "markdown",
   "id": "46b303fa",
   "metadata": {},
   "source": [
    "É necessário remover os usuários que tenham visitado somente 1 local (independente do número de Checkins, o que importa é a quantidade de locais)\n",
    "\n",
    "Este filtro é necessário, pois o Cláudio o aplica para gerar os dados de entrada"
   ]
  },
  {
   "cell_type": "code",
   "execution_count": 17,
   "id": "21c160ad",
   "metadata": {},
   "outputs": [],
   "source": [
    "qt_lugares_por_usuario = (\n",
    "    g_dataset\n",
    "    .groupby('userid')\n",
    "    .agg(\n",
    "        {'placeid':'nunique'}\n",
    "    )\n",
    "    .sort_values(by=['placeid'], ascending=False)\n",
    "    .reset_index()\n",
    ")\n",
    "\n",
    "# filtrando usuarios com menos de 30 checkins\n",
    "qt_lugares_por_usuario = qt_lugares_por_usuario[qt_lugares_por_usuario['placeid'] >= 2]\n",
    "\n",
    "usuarios_validos = qt_lugares_por_usuario['userid'].unique()\n",
    "\n",
    "g_dataset = g_dataset[g_dataset['userid'].isin(usuarios_validos)]"
   ]
  },
  {
   "cell_type": "code",
   "execution_count": 9,
   "id": "69d89bc5",
   "metadata": {
    "ExecuteTime": {
     "end_time": "2023-12-01T19:08:12.843348Z",
     "start_time": "2023-12-01T19:08:12.820292Z"
    }
   },
   "outputs": [],
   "source": [
    "g_dataset.to_csv('gowalla/checkins.csv', index=False)"
   ]
  },
  {
   "cell_type": "code",
   "execution_count": null,
   "outputs": [],
   "source": [],
   "metadata": {
    "collapsed": false
   },
   "id": "b8d5210c8122d1f9"
  }
 ],
 "metadata": {
  "kernelspec": {
   "display_name": "Python 3 (ipykernel)",
   "language": "python",
   "name": "python3"
  },
  "language_info": {
   "codemirror_mode": {
    "name": "ipython",
    "version": 3
   },
   "file_extension": ".py",
   "mimetype": "text/x-python",
   "name": "python",
   "nbconvert_exporter": "python",
   "pygments_lexer": "ipython3",
   "version": "3.10.0"
  }
 },
 "nbformat": 4,
 "nbformat_minor": 5
}
