{
  "nbformat": 4,
  "nbformat_minor": 0,
  "metadata": {
    "colab": {
      "provenance": []
    },
    "kernelspec": {
      "name": "python3",
      "display_name": "Python 3"
    },
    "language_info": {
      "name": "python"
    }
  },
  "cells": [
    {
      "cell_type": "code",
      "source": [
        "import pandas as pd\n",
        "import numpy as np\n",
        "import matplotlib.pyplot as plt\n",
        "import seaborn as sns"
      ],
      "metadata": {
        "id": "IiVYBasGNObO"
      },
      "execution_count": 2,
      "outputs": []
    },
    {
      "cell_type": "code",
      "execution_count": 5,
      "metadata": {
        "id": "_E8iwOfoJmiN"
      },
      "outputs": [],
      "source": [
        "checkin_Texas = pd.read_csv(\"checkins_Texas.csv\")"
      ]
    },
    {
      "cell_type": "code",
      "source": [
        "checkin_Texas.shape"
      ],
      "metadata": {
        "colab": {
          "base_uri": "https://localhost:8080/"
        },
        "id": "E4R5PR8iNq6b",
        "outputId": "e8e5ea5c-5f68-437c-cea2-f7e4a05acc93"
      },
      "execution_count": 12,
      "outputs": [
        {
          "output_type": "execute_result",
          "data": {
            "text/plain": [
              "(3355419, 8)"
            ]
          },
          "metadata": {},
          "execution_count": 12
        }
      ]
    },
    {
      "cell_type": "code",
      "source": [
        "user_counts = checkin_Texas['userid'].value_counts()\n",
        "filtered_users = user_counts[user_counts >= 40].index.tolist()\n",
        "checkin_Texas_filtered = checkin_Texas[checkin_Texas['userid'].isin(filtered_users)]\n"
      ],
      "metadata": {
        "id": "XI4Gn0mXNbxe"
      },
      "execution_count": 9,
      "outputs": []
    },
    {
      "cell_type": "code",
      "source": [
        "checkin_Texas_filtered.shape"
      ],
      "metadata": {
        "colab": {
          "base_uri": "https://localhost:8080/"
        },
        "id": "X3_shmSnNoGT",
        "outputId": "daef91f7-7cfb-47b5-f2d6-8c31b1e2b86c"
      },
      "execution_count": 13,
      "outputs": [
        {
          "output_type": "execute_result",
          "data": {
            "text/plain": [
              "(3092354, 8)"
            ]
          },
          "metadata": {},
          "execution_count": 13
        }
      ]
    },
    {
      "cell_type": "code",
      "source": [
        "unique_user_ids = checkin_Texas_filtered['userid'].unique()\n",
        "\n",
        "selected_user_ids = np.random.choice(unique_user_ids, size=1500, replace=False)\n",
        "\n",
        "checkin_Texas_final = checkin_Texas_filtered[checkin_Texas_filtered['userid'].isin(selected_user_ids)]\n"
      ],
      "metadata": {
        "id": "k_w1eUMUNvf7"
      },
      "execution_count": 14,
      "outputs": []
    },
    {
      "cell_type": "code",
      "source": [
        "checkin_Texas_final.shape"
      ],
      "metadata": {
        "colab": {
          "base_uri": "https://localhost:8080/"
        },
        "id": "U6YO3dvWN20A",
        "outputId": "71f76e2a-9644-4ea8-8626-bf591e08b3c8"
      },
      "execution_count": 15,
      "outputs": [
        {
          "output_type": "execute_result",
          "data": {
            "text/plain": [
              "(385540, 8)"
            ]
          },
          "metadata": {},
          "execution_count": 15
        }
      ]
    },
    {
      "cell_type": "code",
      "source": [
        "checkin_Texas_final.to_csv('checkins_Texas_1500_users.csv', index=False)\n"
      ],
      "metadata": {
        "id": "iu80zJlVN5Q1"
      },
      "execution_count": 18,
      "outputs": []
    }
  ]
}